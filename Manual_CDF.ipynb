{
 "cells": [
  {
   "cell_type": "markdown",
   "metadata": {
    "application/vnd.databricks.v1+cell": {
     "cellMetadata": {},
     "inputWidgets": {},
     "nuid": "5e5da8f2-2971-4e3a-aded-899ebb517dfa",
     "showTitle": false,
     "title": ""
    }
   },
   "source": [
    "### Enable Logging"
   ]
  },
  {
   "cell_type": "code",
   "execution_count": 0,
   "metadata": {
    "application/vnd.databricks.v1+cell": {
     "cellMetadata": {},
     "inputWidgets": {},
     "nuid": "5e0c4e6e-5506-4a2c-b02f-4e19a7737674",
     "showTitle": false,
     "title": ""
    }
   },
   "outputs": [],
   "source": [
    "datetime.datetime.fromtimestamp"
   ]
  },
  {
   "cell_type": "code",
   "execution_count": 0,
   "metadata": {
    "application/vnd.databricks.v1+cell": {
     "cellMetadata": {
      "byteLimit": 2048000,
      "rowLimit": 10000
     },
     "inputWidgets": {},
     "nuid": "c024cd4d-829d-4924-8107-566eba17cfd3",
     "showTitle": false,
     "title": ""
    }
   },
   "outputs": [
    {
     "output_type": "stream",
     "name": "stderr",
     "output_type": "stream",
     "text": [
      "DEBUG:2024-08-30 04:38:19,212:Starting Logger\n"
     ]
    }
   ],
   "source": [
    "import logging\n",
    "import time\n",
    "import datetime\n",
    "\n",
    "def instantiate_logger(project_name):\n",
    "    log_file_prefix = project_name\n",
    "    file_date = datetime.datetime.fromtimestamp(time.time()).strftime('%Y-%m-%d')\n",
    "    p_dir = '/tmp/'\n",
    "    p_file_name = f'{log_file_prefix}_{file_date}.log'\n",
    "    log_file = f'{p_dir}{p_file_name}'\n",
    "    logger = logging.getLogger('custom log')\n",
    "    logger.setLevel(logging.DEBUG)\n",
    "    #Instantiate Stream and File handlers\n",
    "    file_handler = logging.FileHandler(log_file,mode='a')\n",
    "    stream_handler = logging.StreamHandler()\n",
    "\n",
    "    #Instantiate Stream and File handlers\n",
    "    stream_handler.setLevel(logging.DEBUG)\n",
    "\n",
    "    #Creating Formatter\n",
    "    formatter = logging.Formatter('%(levelname)s:%(asctime)s:%(message)s')\n",
    "    stream_handler.setFormatter(formatter)\n",
    "    file_handler.setFormatter(formatter)\n",
    "    if logger.hasHandlers():\n",
    "        logger.handlers.clear()\n",
    "\n",
    "    #Add Handlers to logger    \n",
    "    logger.addHandler(file_handler)\n",
    "    logger.addHandler(stream_handler)\n",
    "    logger.debug('Starting Logger')\n",
    "    return logger,log_file\n",
    "log_writer,log_filename = instantiate_logger('cdf_demo')"
   ]
  },
  {
   "cell_type": "code",
   "execution_count": 0,
   "metadata": {
    "application/vnd.databricks.v1+cell": {
     "cellMetadata": {
      "byteLimit": 2048000,
      "rowLimit": 10000
     },
     "inputWidgets": {},
     "nuid": "5e55ad8d-b4cf-4f2a-aba2-72c76c261e55",
     "showTitle": false,
     "title": ""
    }
   },
   "outputs": [
    {
     "output_type": "stream",
     "name": "stdout",
     "output_type": "stream",
     "text": [
      "DEBUG:2024-08-30 03:23:29,621:Starting Logger\nDEBUG:2024-08-30 03:23:39,984:Starting Logger\n"
     ]
    }
   ],
   "source": [
    "%sh\n",
    "cat /tmp/cdf_demo_2024-08-30.log"
   ]
  },
  {
   "cell_type": "markdown",
   "metadata": {
    "application/vnd.databricks.v1+cell": {
     "cellMetadata": {},
     "inputWidgets": {},
     "nuid": "29610016-cc28-4dae-83ef-30863a938b32",
     "showTitle": false,
     "title": ""
    }
   },
   "source": [
    "## Using autoloader for raw to bronze\n",
    "- uses notification to scale new file ingestion instead of directory listing\n",
    "- load file once\n",
    "- Streaming\n",
    "- uses checkpoints to resume from last run\n"
   ]
  },
  {
   "cell_type": "code",
   "execution_count": 0,
   "metadata": {
    "application/vnd.databricks.v1+cell": {
     "cellMetadata": {
      "byteLimit": 2048000,
      "rowLimit": 10000
     },
     "inputWidgets": {},
     "nuid": "1be90f67-9589-4981-8aad-321c0b1d791c",
     "showTitle": false,
     "title": ""
    }
   },
   "outputs": [],
   "source": [
    "from pyspark.sql.functions import (lit,\n",
    "                                   col,\n",
    "                                   row_number,\n",
    "                                   concat,\n",
    "                                   desc,\n",
    "                                   to_date\n",
    ")\n",
    "from delta.tables import *\n",
    "from pyspark.sql.window import Window\n",
    "from pyspark.sql.types import StructType,StructField,StringType,LongType,TimestampType,DateType,BooleanType"
   ]
  },
  {
   "cell_type": "code",
   "execution_count": 0,
   "metadata": {
    "application/vnd.databricks.v1+cell": {
     "cellMetadata": {
      "byteLimit": 2048000,
      "rowLimit": 10000
     },
     "inputWidgets": {},
     "nuid": "0643bec9-9309-45b0-adf5-bb02f00e526a",
     "showTitle": false,
     "title": ""
    }
   },
   "outputs": [
    {
     "output_type": "execute_result",
     "data": {
      "text/plain": [
       "True"
      ]
     },
     "execution_count": 20,
     "metadata": {},
     "output_type": "execute_result"
    }
   ],
   "source": [
    "dbutils.fs.mkdirs('/FileStore/tables/Manual_CDF_Demo/')\n",
    "dbutils.fs.mkdirs('/FileStore/tables/Manual_CDF_Demo/data')"
   ]
  },
  {
   "cell_type": "code",
   "execution_count": 0,
   "metadata": {
    "application/vnd.databricks.v1+cell": {
     "cellMetadata": {
      "byteLimit": 2048000,
      "rowLimit": 10000
     },
     "inputWidgets": {},
     "nuid": "915d71ac-6ebd-41ca-99b3-527391a79f0b",
     "showTitle": false,
     "title": ""
    }
   },
   "outputs": [
    {
     "output_type": "execute_result",
     "data": {
      "text/plain": [
       "True"
      ]
     },
     "execution_count": 57,
     "metadata": {},
     "output_type": "execute_result"
    }
   ],
   "source": [
    "# dbutils.fs.rm(checkpoint_path,True)"
   ]
  },
  {
   "cell_type": "code",
   "execution_count": 0,
   "metadata": {
    "application/vnd.databricks.v1+cell": {
     "cellMetadata": {
      "byteLimit": 2048000,
      "implicitDf": true,
      "rowLimit": 10000
     },
     "inputWidgets": {},
     "nuid": "ca4912a9-7981-416f-84fb-7ca802651cf8",
     "showTitle": false,
     "title": ""
    }
   },
   "outputs": [
    {
     "output_type": "display_data",
     "data": {
      "text/html": [
       "<style scoped>\n",
       "  .table-result-container {\n",
       "    max-height: 300px;\n",
       "    overflow: auto;\n",
       "  }\n",
       "  table, th, td {\n",
       "    border: 1px solid black;\n",
       "    border-collapse: collapse;\n",
       "  }\n",
       "  th, td {\n",
       "    padding: 5px;\n",
       "  }\n",
       "  th {\n",
       "    text-align: left;\n",
       "  }\n",
       "</style><div class='table-result-container'><table class='table-result'><thead style='background-color: white'><tr></tr></thead><tbody></tbody></table></div>"
      ]
     },
     "metadata": {
      "application/vnd.databricks.v1+output": {
       "addedWidgets": {},
       "aggData": [],
       "aggError": "",
       "aggOverflow": false,
       "aggSchema": [],
       "aggSeriesLimitReached": false,
       "aggType": "",
       "arguments": {},
       "columnCustomDisplayInfos": {},
       "data": [],
       "datasetInfos": [],
       "dbfsResultPath": null,
       "isJsonSchema": true,
       "metadata": {
        "dataframeName": null
       },
       "overflow": false,
       "plotOptions": {
        "customPlotOptions": {},
        "displayType": "table",
        "pivotAggregation": null,
        "pivotColumns": null,
        "xColumns": null,
        "yColumns": null
       },
       "removedWidgets": [],
       "schema": [],
       "type": "table"
      }
     },
     "output_type": "display_data"
    }
   ],
   "source": [
    "%sql\n",
    "-- DROP TABLE default.customers_bronze"
   ]
  },
  {
   "cell_type": "code",
   "execution_count": 0,
   "metadata": {
    "application/vnd.databricks.v1+cell": {
     "cellMetadata": {
      "byteLimit": 2048000,
      "rowLimit": 10000
     },
     "inputWidgets": {},
     "nuid": "38c3639a-6064-42ba-91c8-4ede519ed799",
     "showTitle": false,
     "title": ""
    }
   },
   "outputs": [
    {
     "output_type": "execute_result",
     "data": {
      "text/plain": [
       "<pyspark.sql.streaming.query.StreamingQuery at 0x7fbe73852710>"
      ]
     },
     "execution_count": 119,
     "metadata": {},
     "output_type": "execute_result"
    }
   ],
   "source": [
    "checkpoint_path = 'dbfs:/FileStore/tables/Manual_CDF_Demo/_checkpoint/customers_bronze'\n",
    "data_path = 'dbfs:/FileStore/tables/Manual_CDF_Demo/data/'\n",
    "\n",
    "(\n",
    "   spark.readStream\n",
    "   .format('cloudFiles') \n",
    "   .option('cloudFiles.format','csv')\n",
    "   .option('cloudFiles.schemaLocation',checkpoint_path)   \n",
    "   .load(data_path)\n",
    "   .withColumn('softDelete',lit(False))\n",
    "   .writeStream\n",
    "   .option('checkpointLocation',checkpoint_path)\n",
    "   .trigger(availableNow=True)\n",
    "   .toTable('customers_bronze')\n",
    ")"
   ]
  },
  {
   "cell_type": "code",
   "execution_count": 0,
   "metadata": {
    "application/vnd.databricks.v1+cell": {
     "cellMetadata": {
      "byteLimit": 2048000,
      "implicitDf": true,
      "rowLimit": 10000
     },
     "inputWidgets": {},
     "nuid": "9f1a7bae-ba01-417c-9d86-ba79a4077388",
     "showTitle": false,
     "title": ""
    }
   },
   "outputs": [
    {
     "output_type": "display_data",
     "data": {
      "text/html": [
       "<style scoped>\n",
       "  .table-result-container {\n",
       "    max-height: 300px;\n",
       "    overflow: auto;\n",
       "  }\n",
       "  table, th, td {\n",
       "    border: 1px solid black;\n",
       "    border-collapse: collapse;\n",
       "  }\n",
       "  th, td {\n",
       "    padding: 5px;\n",
       "  }\n",
       "  th {\n",
       "    text-align: left;\n",
       "  }\n",
       "</style><div class='table-result-container'><table class='table-result'><thead style='background-color: white'><tr><th>EmPId</th><th>FirstName</th><th>LastName</th><th>Address1</th><th>CreatedOn</th><th>ModifiedOn</th><th>_rescued_data</th><th>softDelete</th></tr></thead><tbody><tr><td>1</td><td>Leonardo</td><td>Spider</td><td>123 First St.</td><td>12/31/2024</td><td>12/31/2024</td><td>null</td><td>false</td></tr><tr><td>2</td><td>Napoleon</td><td>Bonaparte</td><td>234 Second St.</td><td>12/31/2024</td><td>12/31/2024</td><td>null</td><td>false</td></tr><tr><td>3</td><td>Charles</td><td>Darwin</td><td>345 Third St.</td><td>12/31/2024</td><td>12/31/2024</td><td>null</td><td>false</td></tr><tr><td>4</td><td>Albert</td><td>Einstein</td><td>456 Fourth St.</td><td>12/31/2024</td><td>12/31/2024</td><td>null</td><td>false</td></tr><tr><td>5</td><td>Thomas</td><td>Jefferson</td><td>678 Fifth St.</td><td>12/31/2024</td><td>12/31/2024</td><td>null</td><td>false</td></tr><tr><td>1</td><td>Leonardo</td><td>da Vinci</td><td>123 First St.</td><td>12/31/2024</td><td>12/31/2024</td><td>null</td><td>false</td></tr><tr><td>2</td><td>Napoleon</td><td>Bonaparte</td><td>234 Second St.</td><td>12/31/2024</td><td>12/31/2024</td><td>null</td><td>false</td></tr><tr><td>3</td><td>Charles</td><td>Darwin</td><td>345 Third St.</td><td>12/31/2024</td><td>12/31/2024</td><td>null</td><td>false</td></tr><tr><td>4</td><td>Albert</td><td>Einstein</td><td>456 Fourth St.</td><td>12/31/2024</td><td>10/31/2025</td><td>null</td><td>false</td></tr><tr><td>5</td><td>Thomas</td><td>Jefferson</td><td>678 Fifth St.</td><td>12/31/2024</td><td>12/31/2024</td><td>null</td><td>false</td></tr><tr><td>6</td><td>baba</td><td>yaga</td><td>678 Fifth St.</td><td>12/31/2024</td><td>12/31/2024</td><td>null</td><td>false</td></tr><tr><td>7</td><td>tommy</td><td>Jefferson</td><td>678 Fifth St.</td><td>12/31/2024</td><td>12/31/2024</td><td>null</td><td>false</td></tr></tbody></table></div>"
      ]
     },
     "metadata": {
      "application/vnd.databricks.v1+output": {
       "addedWidgets": {},
       "aggData": [],
       "aggError": "",
       "aggOverflow": false,
       "aggSchema": [],
       "aggSeriesLimitReached": false,
       "aggType": "",
       "arguments": {},
       "columnCustomDisplayInfos": {},
       "data": [
        [
         "1",
         "Leonardo",
         "Spider",
         "123 First St.",
         "12/31/2024",
         "12/31/2024",
         null,
         false
        ],
        [
         "2",
         "Napoleon",
         "Bonaparte",
         "234 Second St.",
         "12/31/2024",
         "12/31/2024",
         null,
         false
        ],
        [
         "3",
         "Charles",
         "Darwin",
         "345 Third St.",
         "12/31/2024",
         "12/31/2024",
         null,
         false
        ],
        [
         "4",
         "Albert",
         "Einstein",
         "456 Fourth St.",
         "12/31/2024",
         "12/31/2024",
         null,
         false
        ],
        [
         "5",
         "Thomas",
         "Jefferson",
         "678 Fifth St.",
         "12/31/2024",
         "12/31/2024",
         null,
         false
        ],
        [
         "1",
         "Leonardo",
         "da Vinci",
         "123 First St.",
         "12/31/2024",
         "12/31/2024",
         null,
         false
        ],
        [
         "2",
         "Napoleon",
         "Bonaparte",
         "234 Second St.",
         "12/31/2024",
         "12/31/2024",
         null,
         false
        ],
        [
         "3",
         "Charles",
         "Darwin",
         "345 Third St.",
         "12/31/2024",
         "12/31/2024",
         null,
         false
        ],
        [
         "4",
         "Albert",
         "Einstein",
         "456 Fourth St.",
         "12/31/2024",
         "10/31/2025",
         null,
         false
        ],
        [
         "5",
         "Thomas",
         "Jefferson",
         "678 Fifth St.",
         "12/31/2024",
         "12/31/2024",
         null,
         false
        ],
        [
         "6",
         "baba",
         "yaga",
         "678 Fifth St.",
         "12/31/2024",
         "12/31/2024",
         null,
         false
        ],
        [
         "7",
         "tommy",
         "Jefferson",
         "678 Fifth St.",
         "12/31/2024",
         "12/31/2024",
         null,
         false
        ]
       ],
       "datasetInfos": [],
       "dbfsResultPath": null,
       "isJsonSchema": true,
       "metadata": {
        "createTempViewForImplicitDf": true,
        "dataframeName": "_sqldf",
        "executionCount": 120
       },
       "overflow": false,
       "plotOptions": {
        "customPlotOptions": {},
        "displayType": "table",
        "pivotAggregation": null,
        "pivotColumns": null,
        "xColumns": null,
        "yColumns": null
       },
       "removedWidgets": [],
       "schema": [
        {
         "metadata": "{}",
         "name": "EmPId",
         "type": "\"string\""
        },
        {
         "metadata": "{}",
         "name": "FirstName",
         "type": "\"string\""
        },
        {
         "metadata": "{}",
         "name": "LastName",
         "type": "\"string\""
        },
        {
         "metadata": "{}",
         "name": "Address1",
         "type": "\"string\""
        },
        {
         "metadata": "{\"__detected_date_formats\":\"M/d/yyyy\"}",
         "name": "CreatedOn",
         "type": "\"string\""
        },
        {
         "metadata": "{\"__detected_date_formats\":\"M/d/yyyy\"}",
         "name": "ModifiedOn",
         "type": "\"string\""
        },
        {
         "metadata": "{}",
         "name": "_rescued_data",
         "type": "\"string\""
        },
        {
         "metadata": "{}",
         "name": "softDelete",
         "type": "\"boolean\""
        }
       ],
       "type": "table"
      }
     },
     "output_type": "display_data"
    }
   ],
   "source": [
    "%sql\n",
    "select * from customers_bronze"
   ]
  },
  {
   "cell_type": "code",
   "execution_count": 0,
   "metadata": {
    "application/vnd.databricks.v1+cell": {
     "cellMetadata": {
      "byteLimit": 2048000,
      "rowLimit": 10000
     },
     "inputWidgets": {},
     "nuid": "39d8653d-1ed9-4f55-8284-affa25517749",
     "showTitle": false,
     "title": ""
    }
   },
   "outputs": [],
   "source": [
    "def TurnCDFOn(schema, table):   \n",
    "    spark.sql(f\"ALTER TABLE {schema}.{table} SET TBLPROPERTIES (delta.enableChangeDataFeed = true)\")\n",
    "    print(f'TurnCDFOn: Turned CDF on for {schema}.{table}')"
   ]
  },
  {
   "cell_type": "code",
   "execution_count": 0,
   "metadata": {
    "application/vnd.databricks.v1+cell": {
     "cellMetadata": {
      "byteLimit": 2048000,
      "rowLimit": 10000
     },
     "inputWidgets": {},
     "nuid": "e2a96328-01cc-4f9c-8d5c-4803df24f7cc",
     "showTitle": false,
     "title": ""
    }
   },
   "outputs": [
    {
     "output_type": "stream",
     "name": "stdout",
     "output_type": "stream",
     "text": [
      "TurnCDFOn: Turned CDF on for default.customers_bronze\n"
     ]
    }
   ],
   "source": [
    "TurnCDFOn('default','customers_bronze')"
   ]
  },
  {
   "cell_type": "code",
   "execution_count": 0,
   "metadata": {
    "application/vnd.databricks.v1+cell": {
     "cellMetadata": {
      "byteLimit": 2048000,
      "rowLimit": 10000
     },
     "inputWidgets": {},
     "nuid": "4b2b7a4f-298c-48a9-bb9f-7ab9f7eba25c",
     "showTitle": false,
     "title": ""
    }
   },
   "outputs": [
    {
     "output_type": "display_data",
     "data": {
      "text/html": [
       "<style scoped>\n",
       "  .table-result-container {\n",
       "    max-height: 300px;\n",
       "    overflow: auto;\n",
       "  }\n",
       "  table, th, td {\n",
       "    border: 1px solid black;\n",
       "    border-collapse: collapse;\n",
       "  }\n",
       "  th, td {\n",
       "    padding: 5px;\n",
       "  }\n",
       "  th {\n",
       "    text-align: left;\n",
       "  }\n",
       "</style><div class='table-result-container'><table class='table-result'><thead style='background-color: white'><tr><th>version</th><th>timestamp</th><th>userId</th><th>userName</th><th>operation</th><th>operationParameters</th><th>job</th><th>notebook</th><th>clusterId</th><th>readVersion</th><th>isolationLevel</th><th>isBlindAppend</th><th>operationMetrics</th><th>userMetadata</th><th>engineInfo</th></tr></thead><tbody><tr><td>5</td><td>2024-08-30T04:41:42Z</td><td>7285002445872367</td><td>vasaicrow@gmail.com</td><td>STREAMING UPDATE</td><td>Map(outputMode -> Append, queryId -> 763ead28-04c3-4a02-a8df-2b38b6087bbe, epochId -> 2, statsOnLoad -> false)</td><td>null</td><td>List(33125772867387)</td><td>0830-030902-ddjb86xj</td><td>4</td><td>WriteSerializable</td><td>true</td><td>Map(numRemovedFiles -> 0, numOutputRows -> 0, numOutputBytes -> 0, numAddedFiles -> 0)</td><td>null</td><td>Databricks-Runtime/15.4.x-scala2.12</td></tr><tr><td>4</td><td>2024-08-30T04:41:38Z</td><td>7285002445872367</td><td>vasaicrow@gmail.com</td><td>STREAMING UPDATE</td><td>Map(outputMode -> Append, queryId -> 763ead28-04c3-4a02-a8df-2b38b6087bbe, epochId -> 1, statsOnLoad -> false)</td><td>null</td><td>List(33125772867387)</td><td>0830-030902-ddjb86xj</td><td>3</td><td>WriteSerializable</td><td>true</td><td>Map(numRemovedFiles -> 0, numOutputRows -> 7, numOutputBytes -> 2681, numAddedFiles -> 1)</td><td>null</td><td>Databricks-Runtime/15.4.x-scala2.12</td></tr><tr><td>3</td><td>2024-08-30T03:56:37Z</td><td>7285002445872367</td><td>vasaicrow@gmail.com</td><td>UPDATE</td><td>Map(predicate -> [\"(cast(EmPId#8592 as int) = 1)\"])</td><td>null</td><td>List(33125772867387)</td><td>0830-030902-ddjb86xj</td><td>2</td><td>WriteSerializable</td><td>false</td><td>Map(numRemovedFiles -> 1, numRemovedBytes -> 2589, numCopiedRows -> 4, numDeletionVectorsAdded -> 0, numDeletionVectorsRemoved -> 0, numAddedChangeFiles -> 1, executionTimeMs -> 3030, numDeletionVectorsUpdated -> 0, scanTimeMs -> 1453, numAddedFiles -> 1, numUpdatedRows -> 1, numAddedBytes -> 2804, rewriteTimeMs -> 1577)</td><td>null</td><td>Databricks-Runtime/15.4.x-scala2.12</td></tr><tr><td>2</td><td>2024-08-30T03:56:12Z</td><td>7285002445872367</td><td>vasaicrow@gmail.com</td><td>SET TBLPROPERTIES</td><td>Map(properties -> {\"delta.enableChangeDataFeed\":\"true\"})</td><td>null</td><td>List(33125772867387)</td><td>0830-030902-ddjb86xj</td><td>1</td><td>WriteSerializable</td><td>true</td><td>Map()</td><td>null</td><td>Databricks-Runtime/15.4.x-scala2.12</td></tr><tr><td>1</td><td>2024-08-30T03:55:53Z</td><td>7285002445872367</td><td>vasaicrow@gmail.com</td><td>STREAMING UPDATE</td><td>Map(outputMode -> Append, queryId -> 763ead28-04c3-4a02-a8df-2b38b6087bbe, epochId -> 0, statsOnLoad -> false)</td><td>null</td><td>List(33125772867387)</td><td>0830-030902-ddjb86xj</td><td>0</td><td>WriteSerializable</td><td>true</td><td>Map(numRemovedFiles -> 0, numOutputRows -> 5, numOutputBytes -> 2589, numAddedFiles -> 1)</td><td>null</td><td>Databricks-Runtime/15.4.x-scala2.12</td></tr><tr><td>0</td><td>2024-08-30T03:55:47Z</td><td>7285002445872367</td><td>vasaicrow@gmail.com</td><td>CREATE TABLE</td><td>Map(partitionBy -> [], clusterBy -> [], description -> null, isManaged -> true, properties -> {}, statsOnLoad -> false)</td><td>null</td><td>List(33125772867387)</td><td>0830-030902-ddjb86xj</td><td>null</td><td>WriteSerializable</td><td>true</td><td>Map()</td><td>null</td><td>Databricks-Runtime/15.4.x-scala2.12</td></tr></tbody></table></div>"
      ]
     },
     "metadata": {
      "application/vnd.databricks.v1+output": {
       "addedWidgets": {},
       "aggData": [],
       "aggError": "",
       "aggOverflow": false,
       "aggSchema": [],
       "aggSeriesLimitReached": false,
       "aggType": "",
       "arguments": {},
       "columnCustomDisplayInfos": {},
       "data": [
        [
         5,
         "2024-08-30T04:41:42Z",
         "7285002445872367",
         "vasaicrow@gmail.com",
         "STREAMING UPDATE",
         {
          "epochId": "2",
          "outputMode": "Append",
          "queryId": "763ead28-04c3-4a02-a8df-2b38b6087bbe",
          "statsOnLoad": "false"
         },
         null,
         [
          "33125772867387"
         ],
         "0830-030902-ddjb86xj",
         4,
         "WriteSerializable",
         true,
         {
          "numAddedFiles": "0",
          "numOutputBytes": "0",
          "numOutputRows": "0",
          "numRemovedFiles": "0"
         },
         null,
         "Databricks-Runtime/15.4.x-scala2.12"
        ],
        [
         4,
         "2024-08-30T04:41:38Z",
         "7285002445872367",
         "vasaicrow@gmail.com",
         "STREAMING UPDATE",
         {
          "epochId": "1",
          "outputMode": "Append",
          "queryId": "763ead28-04c3-4a02-a8df-2b38b6087bbe",
          "statsOnLoad": "false"
         },
         null,
         [
          "33125772867387"
         ],
         "0830-030902-ddjb86xj",
         3,
         "WriteSerializable",
         true,
         {
          "numAddedFiles": "1",
          "numOutputBytes": "2681",
          "numOutputRows": "7",
          "numRemovedFiles": "0"
         },
         null,
         "Databricks-Runtime/15.4.x-scala2.12"
        ],
        [
         3,
         "2024-08-30T03:56:37Z",
         "7285002445872367",
         "vasaicrow@gmail.com",
         "UPDATE",
         {
          "predicate": "[\"(cast(EmPId#8592 as int) = 1)\"]"
         },
         null,
         [
          "33125772867387"
         ],
         "0830-030902-ddjb86xj",
         2,
         "WriteSerializable",
         false,
         {
          "executionTimeMs": "3030",
          "numAddedBytes": "2804",
          "numAddedChangeFiles": "1",
          "numAddedFiles": "1",
          "numCopiedRows": "4",
          "numDeletionVectorsAdded": "0",
          "numDeletionVectorsRemoved": "0",
          "numDeletionVectorsUpdated": "0",
          "numRemovedBytes": "2589",
          "numRemovedFiles": "1",
          "numUpdatedRows": "1",
          "rewriteTimeMs": "1577",
          "scanTimeMs": "1453"
         },
         null,
         "Databricks-Runtime/15.4.x-scala2.12"
        ],
        [
         2,
         "2024-08-30T03:56:12Z",
         "7285002445872367",
         "vasaicrow@gmail.com",
         "SET TBLPROPERTIES",
         {
          "properties": "{\"delta.enableChangeDataFeed\":\"true\"}"
         },
         null,
         [
          "33125772867387"
         ],
         "0830-030902-ddjb86xj",
         1,
         "WriteSerializable",
         true,
         {},
         null,
         "Databricks-Runtime/15.4.x-scala2.12"
        ],
        [
         1,
         "2024-08-30T03:55:53Z",
         "7285002445872367",
         "vasaicrow@gmail.com",
         "STREAMING UPDATE",
         {
          "epochId": "0",
          "outputMode": "Append",
          "queryId": "763ead28-04c3-4a02-a8df-2b38b6087bbe",
          "statsOnLoad": "false"
         },
         null,
         [
          "33125772867387"
         ],
         "0830-030902-ddjb86xj",
         0,
         "WriteSerializable",
         true,
         {
          "numAddedFiles": "1",
          "numOutputBytes": "2589",
          "numOutputRows": "5",
          "numRemovedFiles": "0"
         },
         null,
         "Databricks-Runtime/15.4.x-scala2.12"
        ],
        [
         0,
         "2024-08-30T03:55:47Z",
         "7285002445872367",
         "vasaicrow@gmail.com",
         "CREATE TABLE",
         {
          "clusterBy": "[]",
          "description": null,
          "isManaged": "true",
          "partitionBy": "[]",
          "properties": "{}",
          "statsOnLoad": "false"
         },
         null,
         [
          "33125772867387"
         ],
         "0830-030902-ddjb86xj",
         null,
         "WriteSerializable",
         true,
         {},
         null,
         "Databricks-Runtime/15.4.x-scala2.12"
        ]
       ],
       "datasetInfos": [],
       "dbfsResultPath": null,
       "isJsonSchema": true,
       "metadata": {},
       "overflow": false,
       "plotOptions": {
        "customPlotOptions": {},
        "displayType": "table",
        "pivotAggregation": null,
        "pivotColumns": null,
        "xColumns": null,
        "yColumns": null
       },
       "removedWidgets": [],
       "schema": [
        {
         "metadata": "{}",
         "name": "version",
         "type": "\"long\""
        },
        {
         "metadata": "{}",
         "name": "timestamp",
         "type": "\"timestamp\""
        },
        {
         "metadata": "{}",
         "name": "userId",
         "type": "\"string\""
        },
        {
         "metadata": "{}",
         "name": "userName",
         "type": "\"string\""
        },
        {
         "metadata": "{}",
         "name": "operation",
         "type": "\"string\""
        },
        {
         "metadata": "{}",
         "name": "operationParameters",
         "type": "{\"type\":\"map\",\"keyType\":\"string\",\"valueType\":\"string\",\"valueContainsNull\":true}"
        },
        {
         "metadata": "{}",
         "name": "job",
         "type": "{\"type\":\"struct\",\"fields\":[{\"name\":\"jobId\",\"type\":\"string\",\"nullable\":true,\"metadata\":{}},{\"name\":\"jobName\",\"type\":\"string\",\"nullable\":true,\"metadata\":{}},{\"name\":\"jobRunId\",\"type\":\"string\",\"nullable\":true,\"metadata\":{}},{\"name\":\"runId\",\"type\":\"string\",\"nullable\":true,\"metadata\":{}},{\"name\":\"jobOwnerId\",\"type\":\"string\",\"nullable\":true,\"metadata\":{}},{\"name\":\"triggerType\",\"type\":\"string\",\"nullable\":true,\"metadata\":{}}]}"
        },
        {
         "metadata": "{}",
         "name": "notebook",
         "type": "{\"type\":\"struct\",\"fields\":[{\"name\":\"notebookId\",\"type\":\"string\",\"nullable\":true,\"metadata\":{}}]}"
        },
        {
         "metadata": "{}",
         "name": "clusterId",
         "type": "\"string\""
        },
        {
         "metadata": "{}",
         "name": "readVersion",
         "type": "\"long\""
        },
        {
         "metadata": "{}",
         "name": "isolationLevel",
         "type": "\"string\""
        },
        {
         "metadata": "{}",
         "name": "isBlindAppend",
         "type": "\"boolean\""
        },
        {
         "metadata": "{}",
         "name": "operationMetrics",
         "type": "{\"type\":\"map\",\"keyType\":\"string\",\"valueType\":\"string\",\"valueContainsNull\":true}"
        },
        {
         "metadata": "{}",
         "name": "userMetadata",
         "type": "\"string\""
        },
        {
         "metadata": "{}",
         "name": "engineInfo",
         "type": "\"string\""
        }
       ],
       "type": "table"
      }
     },
     "output_type": "display_data"
    }
   ],
   "source": [
    "customers_deltaTable = DeltaTable.forName(spark,'customers_bronze')\n",
    "fullHistoryDF = customers_deltaTable.history()\n",
    "lastOperationDF = customers_deltaTable.history(1)\n",
    "fullHistoryDF.display()"
   ]
  },
  {
   "cell_type": "code",
   "execution_count": 0,
   "metadata": {
    "application/vnd.databricks.v1+cell": {
     "cellMetadata": {
      "byteLimit": 2048000,
      "rowLimit": 10000
     },
     "inputWidgets": {},
     "nuid": "56d71d6f-6fc0-4a64-a265-ccbf589ab565",
     "showTitle": false,
     "title": ""
    }
   },
   "outputs": [
    {
     "output_type": "display_data",
     "data": {
      "text/html": [
       "<style scoped>\n",
       "  .table-result-container {\n",
       "    max-height: 300px;\n",
       "    overflow: auto;\n",
       "  }\n",
       "  table, th, td {\n",
       "    border: 1px solid black;\n",
       "    border-collapse: collapse;\n",
       "  }\n",
       "  th, td {\n",
       "    padding: 5px;\n",
       "  }\n",
       "  th {\n",
       "    text-align: left;\n",
       "  }\n",
       "</style><div class='table-result-container'><table class='table-result'><thead style='background-color: white'><tr><th>EmPId</th><th>FirstName</th><th>LastName</th><th>Address1</th><th>CreatedOn</th><th>ModifiedOn</th><th>_rescued_data</th></tr></thead><tbody><tr><td>1</td><td>Leonardo</td><td>daVinci</td><td>123 First St.</td><td>12/31/2024</td><td>12/31/2024</td><td>null</td></tr><tr><td>2</td><td>Napoleon</td><td>Bonaparte</td><td>234 Second St.</td><td>12/31/2024</td><td>12/31/2024</td><td>null</td></tr><tr><td>3</td><td>Charles</td><td>Darwin</td><td>345 Third St.</td><td>12/31/2024</td><td>12/31/2024</td><td>null</td></tr><tr><td>4</td><td>Albert</td><td>Einstein</td><td>456 Fourth St.</td><td>12/31/2024</td><td>12/31/2024</td><td>null</td></tr><tr><td>5</td><td>Thomas</td><td>Jefferson</td><td>678 Fifth St.</td><td>12/31/2024</td><td>12/31/2024</td><td>null</td></tr></tbody></table></div>"
      ]
     },
     "metadata": {
      "application/vnd.databricks.v1+output": {
       "addedWidgets": {},
       "aggData": [],
       "aggError": "",
       "aggOverflow": false,
       "aggSchema": [],
       "aggSeriesLimitReached": false,
       "aggType": "",
       "arguments": {},
       "columnCustomDisplayInfos": {},
       "data": [
        [
         "1",
         "Leonardo",
         "daVinci",
         "123 First St.",
         "12/31/2024",
         "12/31/2024",
         null
        ],
        [
         "2",
         "Napoleon",
         "Bonaparte",
         "234 Second St.",
         "12/31/2024",
         "12/31/2024",
         null
        ],
        [
         "3",
         "Charles",
         "Darwin",
         "345 Third St.",
         "12/31/2024",
         "12/31/2024",
         null
        ],
        [
         "4",
         "Albert",
         "Einstein",
         "456 Fourth St.",
         "12/31/2024",
         "12/31/2024",
         null
        ],
        [
         "5",
         "Thomas",
         "Jefferson",
         "678 Fifth St.",
         "12/31/2024",
         "12/31/2024",
         null
        ]
       ],
       "datasetInfos": [],
       "dbfsResultPath": null,
       "isJsonSchema": true,
       "metadata": {},
       "overflow": false,
       "plotOptions": {
        "customPlotOptions": {},
        "displayType": "table",
        "pivotAggregation": null,
        "pivotColumns": null,
        "xColumns": null,
        "yColumns": null
       },
       "removedWidgets": [],
       "schema": [
        {
         "metadata": "{}",
         "name": "EmPId",
         "type": "\"string\""
        },
        {
         "metadata": "{}",
         "name": "FirstName",
         "type": "\"string\""
        },
        {
         "metadata": "{}",
         "name": "LastName",
         "type": "\"string\""
        },
        {
         "metadata": "{}",
         "name": "Address1",
         "type": "\"string\""
        },
        {
         "metadata": "{\"__detected_date_formats\":\"M/d/yyyy\"}",
         "name": "CreatedOn",
         "type": "\"string\""
        },
        {
         "metadata": "{\"__detected_date_formats\":\"M/d/yyyy\"}",
         "name": "ModifiedOn",
         "type": "\"string\""
        },
        {
         "metadata": "{}",
         "name": "_rescued_data",
         "type": "\"string\""
        }
       ],
       "type": "table"
      }
     },
     "output_type": "display_data"
    }
   ],
   "source": [
    "customers_df = customers_deltaTable.toDF()\n",
    "(customers_df\n",
    "    .orderBy('EmpId')\n",
    "    .display())\n"
   ]
  },
  {
   "cell_type": "markdown",
   "metadata": {
    "application/vnd.databricks.v1+cell": {
     "cellMetadata": {},
     "inputWidgets": {},
     "nuid": "31680079-9040-442e-9f3a-5d1995848643",
     "showTitle": false,
     "title": ""
    }
   },
   "source": [
    "### Reading change data feed by version\n"
   ]
  },
  {
   "cell_type": "code",
   "execution_count": 0,
   "metadata": {
    "application/vnd.databricks.v1+cell": {
     "cellMetadata": {
      "byteLimit": 2048000,
      "rowLimit": 10000
     },
     "inputWidgets": {},
     "nuid": "d4dc5425-0580-4886-b53a-eb6ea99ea660",
     "showTitle": false,
     "title": ""
    }
   },
   "outputs": [
    {
     "output_type": "display_data",
     "data": {
      "text/html": [
       "<style scoped>\n",
       "  .table-result-container {\n",
       "    max-height: 300px;\n",
       "    overflow: auto;\n",
       "  }\n",
       "  table, th, td {\n",
       "    border: 1px solid black;\n",
       "    border-collapse: collapse;\n",
       "  }\n",
       "  th, td {\n",
       "    padding: 5px;\n",
       "  }\n",
       "  th {\n",
       "    text-align: left;\n",
       "  }\n",
       "</style><div class='table-result-container'><table class='table-result'><thead style='background-color: white'><tr><th>EmPId</th><th>FirstName</th><th>LastName</th><th>Address1</th><th>CreatedOn</th><th>ModifiedOn</th><th>_rescued_data</th><th>softDelete</th><th>_change_type</th><th>_commit_version</th><th>_commit_timestamp</th></tr></thead><tbody><tr><td>1</td><td>Leonardo</td><td>daVinci</td><td>123 First St.</td><td>12/31/2024</td><td>12/31/2024</td><td>null</td><td>false</td><td>update_preimage</td><td>3</td><td>2024-08-30T03:56:37Z</td></tr><tr><td>1</td><td>Leonardo</td><td>Spider</td><td>123 First St.</td><td>12/31/2024</td><td>12/31/2024</td><td>null</td><td>false</td><td>update_postimage</td><td>3</td><td>2024-08-30T03:56:37Z</td></tr></tbody></table></div>"
      ]
     },
     "metadata": {
      "application/vnd.databricks.v1+output": {
       "addedWidgets": {},
       "aggData": [],
       "aggError": "",
       "aggOverflow": false,
       "aggSchema": [],
       "aggSeriesLimitReached": false,
       "aggType": "",
       "arguments": {},
       "columnCustomDisplayInfos": {},
       "data": [
        [
         "1",
         "Leonardo",
         "daVinci",
         "123 First St.",
         "12/31/2024",
         "12/31/2024",
         null,
         false,
         "update_preimage",
         3,
         "2024-08-30T03:56:37Z"
        ],
        [
         "1",
         "Leonardo",
         "Spider",
         "123 First St.",
         "12/31/2024",
         "12/31/2024",
         null,
         false,
         "update_postimage",
         3,
         "2024-08-30T03:56:37Z"
        ]
       ],
       "datasetInfos": [],
       "dbfsResultPath": null,
       "isJsonSchema": true,
       "metadata": {},
       "overflow": false,
       "plotOptions": {
        "customPlotOptions": {},
        "displayType": "table",
        "pivotAggregation": null,
        "pivotColumns": null,
        "xColumns": null,
        "yColumns": null
       },
       "removedWidgets": [],
       "schema": [
        {
         "metadata": "{}",
         "name": "EmPId",
         "type": "\"string\""
        },
        {
         "metadata": "{}",
         "name": "FirstName",
         "type": "\"string\""
        },
        {
         "metadata": "{}",
         "name": "LastName",
         "type": "\"string\""
        },
        {
         "metadata": "{}",
         "name": "Address1",
         "type": "\"string\""
        },
        {
         "metadata": "{\"__detected_date_formats\":\"M/d/yyyy\"}",
         "name": "CreatedOn",
         "type": "\"string\""
        },
        {
         "metadata": "{\"__detected_date_formats\":\"M/d/yyyy\"}",
         "name": "ModifiedOn",
         "type": "\"string\""
        },
        {
         "metadata": "{}",
         "name": "_rescued_data",
         "type": "\"string\""
        },
        {
         "metadata": "{}",
         "name": "softDelete",
         "type": "\"boolean\""
        },
        {
         "metadata": "{}",
         "name": "_change_type",
         "type": "\"string\""
        },
        {
         "metadata": "{}",
         "name": "_commit_version",
         "type": "\"long\""
        },
        {
         "metadata": "{}",
         "name": "_commit_timestamp",
         "type": "\"timestamp\""
        }
       ],
       "type": "table"
      }
     },
     "output_type": "display_data"
    },
    {
     "output_type": "display_data",
     "data": {
      "text/html": [
       "<style scoped>\n",
       "  .table-result-container {\n",
       "    max-height: 300px;\n",
       "    overflow: auto;\n",
       "  }\n",
       "  table, th, td {\n",
       "    border: 1px solid black;\n",
       "    border-collapse: collapse;\n",
       "  }\n",
       "  th, td {\n",
       "    padding: 5px;\n",
       "  }\n",
       "  th {\n",
       "    text-align: left;\n",
       "  }\n",
       "</style><div class='table-result-container'><table class='table-result'><thead style='background-color: white'><tr><th>EmPId</th><th>FirstName</th><th>LastName</th><th>Address1</th><th>CreatedOn</th><th>ModifiedOn</th><th>_rescued_data</th><th>softDelete</th><th>_change_type</th><th>_commit_version</th><th>_commit_timestamp</th></tr></thead><tbody><tr><td>1</td><td>Leonardo</td><td>daVinci</td><td>123 First St.</td><td>12/31/2024</td><td>12/31/2024</td><td>null</td><td>false</td><td>update_preimage</td><td>3</td><td>2024-08-30T03:56:37Z</td></tr><tr><td>1</td><td>Leonardo</td><td>Spider</td><td>123 First St.</td><td>12/31/2024</td><td>12/31/2024</td><td>null</td><td>false</td><td>update_postimage</td><td>3</td><td>2024-08-30T03:56:37Z</td></tr></tbody></table></div>"
      ]
     },
     "metadata": {
      "application/vnd.databricks.v1+output": {
       "addedWidgets": {},
       "aggData": [],
       "aggError": "",
       "aggOverflow": false,
       "aggSchema": [],
       "aggSeriesLimitReached": false,
       "aggType": "",
       "arguments": {},
       "columnCustomDisplayInfos": {},
       "data": [
        [
         "1",
         "Leonardo",
         "daVinci",
         "123 First St.",
         "12/31/2024",
         "12/31/2024",
         null,
         false,
         "update_preimage",
         3,
         "2024-08-30T03:56:37Z"
        ],
        [
         "1",
         "Leonardo",
         "Spider",
         "123 First St.",
         "12/31/2024",
         "12/31/2024",
         null,
         false,
         "update_postimage",
         3,
         "2024-08-30T03:56:37Z"
        ]
       ],
       "datasetInfos": [],
       "dbfsResultPath": null,
       "isJsonSchema": true,
       "metadata": {},
       "overflow": false,
       "plotOptions": {
        "customPlotOptions": {},
        "displayType": "table",
        "pivotAggregation": null,
        "pivotColumns": null,
        "xColumns": null,
        "yColumns": null
       },
       "removedWidgets": [],
       "schema": [
        {
         "metadata": "{}",
         "name": "EmPId",
         "type": "\"string\""
        },
        {
         "metadata": "{}",
         "name": "FirstName",
         "type": "\"string\""
        },
        {
         "metadata": "{}",
         "name": "LastName",
         "type": "\"string\""
        },
        {
         "metadata": "{}",
         "name": "Address1",
         "type": "\"string\""
        },
        {
         "metadata": "{\"__detected_date_formats\":\"M/d/yyyy\"}",
         "name": "CreatedOn",
         "type": "\"string\""
        },
        {
         "metadata": "{\"__detected_date_formats\":\"M/d/yyyy\"}",
         "name": "ModifiedOn",
         "type": "\"string\""
        },
        {
         "metadata": "{}",
         "name": "_rescued_data",
         "type": "\"string\""
        },
        {
         "metadata": "{}",
         "name": "softDelete",
         "type": "\"boolean\""
        },
        {
         "metadata": "{}",
         "name": "_change_type",
         "type": "\"string\""
        },
        {
         "metadata": "{}",
         "name": "_commit_version",
         "type": "\"long\""
        },
        {
         "metadata": "{}",
         "name": "_commit_timestamp",
         "type": "\"timestamp\""
        }
       ],
       "type": "table"
      }
     },
     "output_type": "display_data"
    }
   ],
   "source": [
    "#doesnt work if version is before timestamp\n",
    "cdf_version = (\n",
    "    spark.read.format('delta')\n",
    "    .option('readChangeFeed','true')\n",
    "    .option('startingVersion',2)\n",
    "    .table('customers_bronze')\n",
    ")\n",
    "\n",
    "#Reading change data feed by timestamp\n",
    "#doesnt work if version is before timestamp\n",
    "cdf_timestamp = (\n",
    "    spark.read.format('delta')\n",
    "    .option('readChangeFeed','true')\n",
    "    .option('startingTimestamp','2024-08-30T03:56:12.000+00:00')\n",
    "    .table('customers_bronze')\n",
    ")\n",
    "\n",
    "cdf_version.display()\n",
    "cdf_timestamp.display()"
   ]
  },
  {
   "cell_type": "code",
   "execution_count": 0,
   "metadata": {
    "application/vnd.databricks.v1+cell": {
     "cellMetadata": {
      "byteLimit": 2048000,
      "rowLimit": 10000
     },
     "inputWidgets": {},
     "nuid": "c8c48746-b894-4f75-80bb-d73aebeccc9b",
     "showTitle": false,
     "title": ""
    }
   },
   "outputs": [],
   "source": [
    "# Seeing CDF with an update\n",
    "customers_bronze_delta = DeltaTable.forName(spark,'customers_bronze')\n",
    "(customers_bronze_delta\n",
    " .update(\n",
    "     condition = col('EmPId') == 1,\n",
    "     set = {'LastName': lit('Spider')}\n",
    "     )\n",
    " )"
   ]
  },
  {
   "cell_type": "code",
   "execution_count": 0,
   "metadata": {
    "application/vnd.databricks.v1+cell": {
     "cellMetadata": {
      "byteLimit": 2048000,
      "rowLimit": 10000
     },
     "inputWidgets": {},
     "nuid": "61b3a7e7-9ec5-4790-a2c8-2a714c90e25e",
     "showTitle": false,
     "title": ""
    }
   },
   "outputs": [
    {
     "output_type": "display_data",
     "data": {
      "text/html": [
       "<style scoped>\n",
       "  .table-result-container {\n",
       "    max-height: 300px;\n",
       "    overflow: auto;\n",
       "  }\n",
       "  table, th, td {\n",
       "    border: 1px solid black;\n",
       "    border-collapse: collapse;\n",
       "  }\n",
       "  th, td {\n",
       "    padding: 5px;\n",
       "  }\n",
       "  th {\n",
       "    text-align: left;\n",
       "  }\n",
       "</style><div class='table-result-container'><table class='table-result'><thead style='background-color: white'><tr><th>EmPId</th><th>FirstName</th><th>LastName</th><th>Address1</th><th>CreatedOn</th><th>ModifiedOn</th><th>_rescued_data</th><th>softDelete</th></tr></thead><tbody><tr><td>1</td><td>Leonardo</td><td>Spider</td><td>123 First St.</td><td>12/31/2024</td><td>12/31/2024</td><td>null</td><td>false</td></tr><tr><td>2</td><td>Napoleon</td><td>Bonaparte</td><td>234 Second St.</td><td>12/31/2024</td><td>12/31/2024</td><td>null</td><td>false</td></tr><tr><td>3</td><td>Charles</td><td>Darwin</td><td>345 Third St.</td><td>12/31/2024</td><td>12/31/2024</td><td>null</td><td>false</td></tr><tr><td>4</td><td>Albert</td><td>Einstein</td><td>456 Fourth St.</td><td>12/31/2024</td><td>12/31/2024</td><td>null</td><td>false</td></tr><tr><td>5</td><td>Thomas</td><td>Jefferson</td><td>678 Fifth St.</td><td>12/31/2024</td><td>12/31/2024</td><td>null</td><td>false</td></tr></tbody></table></div>"
      ]
     },
     "metadata": {
      "application/vnd.databricks.v1+output": {
       "addedWidgets": {},
       "aggData": [],
       "aggError": "",
       "aggOverflow": false,
       "aggSchema": [],
       "aggSeriesLimitReached": false,
       "aggType": "",
       "arguments": {},
       "columnCustomDisplayInfos": {},
       "data": [
        [
         "1",
         "Leonardo",
         "Spider",
         "123 First St.",
         "12/31/2024",
         "12/31/2024",
         null,
         false
        ],
        [
         "2",
         "Napoleon",
         "Bonaparte",
         "234 Second St.",
         "12/31/2024",
         "12/31/2024",
         null,
         false
        ],
        [
         "3",
         "Charles",
         "Darwin",
         "345 Third St.",
         "12/31/2024",
         "12/31/2024",
         null,
         false
        ],
        [
         "4",
         "Albert",
         "Einstein",
         "456 Fourth St.",
         "12/31/2024",
         "12/31/2024",
         null,
         false
        ],
        [
         "5",
         "Thomas",
         "Jefferson",
         "678 Fifth St.",
         "12/31/2024",
         "12/31/2024",
         null,
         false
        ]
       ],
       "datasetInfos": [],
       "dbfsResultPath": null,
       "isJsonSchema": true,
       "metadata": {},
       "overflow": false,
       "plotOptions": {
        "customPlotOptions": {},
        "displayType": "table",
        "pivotAggregation": null,
        "pivotColumns": null,
        "xColumns": null,
        "yColumns": null
       },
       "removedWidgets": [],
       "schema": [
        {
         "metadata": "{}",
         "name": "EmPId",
         "type": "\"string\""
        },
        {
         "metadata": "{}",
         "name": "FirstName",
         "type": "\"string\""
        },
        {
         "metadata": "{}",
         "name": "LastName",
         "type": "\"string\""
        },
        {
         "metadata": "{}",
         "name": "Address1",
         "type": "\"string\""
        },
        {
         "metadata": "{\"__detected_date_formats\":\"M/d/yyyy\"}",
         "name": "CreatedOn",
         "type": "\"string\""
        },
        {
         "metadata": "{\"__detected_date_formats\":\"M/d/yyyy\"}",
         "name": "ModifiedOn",
         "type": "\"string\""
        },
        {
         "metadata": "{}",
         "name": "_rescued_data",
         "type": "\"string\""
        },
        {
         "metadata": "{}",
         "name": "softDelete",
         "type": "\"boolean\""
        }
       ],
       "type": "table"
      }
     },
     "output_type": "display_data"
    }
   ],
   "source": [
    "customers_df = customers_deltaTable.toDF()\n",
    "(customers_df\n",
    "    .orderBy('EmpId')\n",
    "    .display())\n"
   ]
  },
  {
   "cell_type": "code",
   "execution_count": 0,
   "metadata": {
    "application/vnd.databricks.v1+cell": {
     "cellMetadata": {
      "byteLimit": 2048000,
      "rowLimit": 10000
     },
     "inputWidgets": {},
     "nuid": "dde072c0-6058-4cf4-a5d8-af3090d27152",
     "showTitle": false,
     "title": ""
    }
   },
   "outputs": [
    {
     "output_type": "display_data",
     "data": {
      "text/html": [
       "<style scoped>\n",
       "  .table-result-container {\n",
       "    max-height: 300px;\n",
       "    overflow: auto;\n",
       "  }\n",
       "  table, th, td {\n",
       "    border: 1px solid black;\n",
       "    border-collapse: collapse;\n",
       "  }\n",
       "  th, td {\n",
       "    padding: 5px;\n",
       "  }\n",
       "  th {\n",
       "    text-align: left;\n",
       "  }\n",
       "</style><div class='table-result-container'><table class='table-result'><thead style='background-color: white'><tr><th>EmPId</th><th>FirstName</th><th>LastName</th><th>Address1</th><th>CreatedOn</th><th>ModifiedOn</th><th>_rescued_data</th><th>softDelete</th><th>_change_type</th><th>_commit_version</th><th>_commit_timestamp</th></tr></thead><tbody><tr><td>1</td><td>Leonardo</td><td>daVinci</td><td>123 First St.</td><td>12/31/2024</td><td>12/31/2024</td><td>null</td><td>false</td><td>update_preimage</td><td>3</td><td>2024-08-30T03:56:37Z</td></tr><tr><td>1</td><td>Leonardo</td><td>Spider</td><td>123 First St.</td><td>12/31/2024</td><td>12/31/2024</td><td>null</td><td>false</td><td>update_postimage</td><td>3</td><td>2024-08-30T03:56:37Z</td></tr></tbody></table></div>"
      ]
     },
     "metadata": {
      "application/vnd.databricks.v1+output": {
       "addedWidgets": {},
       "aggData": [],
       "aggError": "",
       "aggOverflow": false,
       "aggSchema": [],
       "aggSeriesLimitReached": false,
       "aggType": "",
       "arguments": {},
       "columnCustomDisplayInfos": {},
       "data": [
        [
         "1",
         "Leonardo",
         "daVinci",
         "123 First St.",
         "12/31/2024",
         "12/31/2024",
         null,
         false,
         "update_preimage",
         3,
         "2024-08-30T03:56:37Z"
        ],
        [
         "1",
         "Leonardo",
         "Spider",
         "123 First St.",
         "12/31/2024",
         "12/31/2024",
         null,
         false,
         "update_postimage",
         3,
         "2024-08-30T03:56:37Z"
        ]
       ],
       "datasetInfos": [],
       "dbfsResultPath": null,
       "isJsonSchema": true,
       "metadata": {},
       "overflow": false,
       "plotOptions": {
        "customPlotOptions": {},
        "displayType": "table",
        "pivotAggregation": null,
        "pivotColumns": null,
        "xColumns": null,
        "yColumns": null
       },
       "removedWidgets": [],
       "schema": [
        {
         "metadata": "{}",
         "name": "EmPId",
         "type": "\"string\""
        },
        {
         "metadata": "{}",
         "name": "FirstName",
         "type": "\"string\""
        },
        {
         "metadata": "{}",
         "name": "LastName",
         "type": "\"string\""
        },
        {
         "metadata": "{}",
         "name": "Address1",
         "type": "\"string\""
        },
        {
         "metadata": "{\"__detected_date_formats\":\"M/d/yyyy\"}",
         "name": "CreatedOn",
         "type": "\"string\""
        },
        {
         "metadata": "{\"__detected_date_formats\":\"M/d/yyyy\"}",
         "name": "ModifiedOn",
         "type": "\"string\""
        },
        {
         "metadata": "{}",
         "name": "_rescued_data",
         "type": "\"string\""
        },
        {
         "metadata": "{}",
         "name": "softDelete",
         "type": "\"boolean\""
        },
        {
         "metadata": "{}",
         "name": "_change_type",
         "type": "\"string\""
        },
        {
         "metadata": "{}",
         "name": "_commit_version",
         "type": "\"long\""
        },
        {
         "metadata": "{}",
         "name": "_commit_timestamp",
         "type": "\"timestamp\""
        }
       ],
       "type": "table"
      }
     },
     "output_type": "display_data"
    }
   ],
   "source": [
    "cdf_timestamp = (\n",
    "    spark.read.format('delta')\n",
    "    .option('readChangeFeed','true')\n",
    "    .option('startingTimestamp','2024-08-30T03:56:12.000+00:00')\n",
    "    .table('customers_bronze')\n",
    ")\n",
    "cdf_timestamp.display()"
   ]
  },
  {
   "cell_type": "markdown",
   "metadata": {
    "application/vnd.databricks.v1+cell": {
     "cellMetadata": {},
     "inputWidgets": {},
     "nuid": "e82dd6d6-bfa3-4386-8f2e-83351a74eda3",
     "showTitle": false,
     "title": ""
    }
   },
   "source": [
    "### Get Latest Updates from bronze"
   ]
  },
  {
   "cell_type": "code",
   "execution_count": 0,
   "metadata": {
    "application/vnd.databricks.v1+cell": {
     "cellMetadata": {
      "byteLimit": 2048000,
      "rowLimit": 10000
     },
     "inputWidgets": {},
     "nuid": "9f39e28c-c4fa-4a38-9ad8-4a75b8365ab9",
     "showTitle": false,
     "title": ""
    }
   },
   "outputs": [
    {
     "output_type": "display_data",
     "data": {
      "text/html": [
       "<style scoped>\n",
       "  .table-result-container {\n",
       "    max-height: 300px;\n",
       "    overflow: auto;\n",
       "  }\n",
       "  table, th, td {\n",
       "    border: 1px solid black;\n",
       "    border-collapse: collapse;\n",
       "  }\n",
       "  th, td {\n",
       "    padding: 5px;\n",
       "  }\n",
       "  th {\n",
       "    text-align: left;\n",
       "  }\n",
       "</style><div class='table-result-container'><table class='table-result'><thead style='background-color: white'><tr><th>EmPId</th><th>FirstName</th><th>LastName</th><th>Address1</th><th>CreatedOn</th><th>ModifiedOn</th><th>_rescued_data</th><th>softDelete</th><th>_change_type</th><th>_commit_version</th><th>_commit_timestamp</th><th>rank</th></tr></thead><tbody><tr><td>1</td><td>Leonardo</td><td>Spider</td><td>123 First St.</td><td>12/31/2024</td><td>12/31/2024</td><td>null</td><td>false</td><td>update_postimage</td><td>3</td><td>2024-08-30T03:56:37Z</td><td>1</td></tr></tbody></table></div>"
      ]
     },
     "metadata": {
      "application/vnd.databricks.v1+output": {
       "addedWidgets": {},
       "aggData": [],
       "aggError": "",
       "aggOverflow": false,
       "aggSchema": [],
       "aggSeriesLimitReached": false,
       "aggType": "",
       "arguments": {},
       "columnCustomDisplayInfos": {},
       "data": [
        [
         "1",
         "Leonardo",
         "Spider",
         "123 First St.",
         "12/31/2024",
         "12/31/2024",
         null,
         false,
         "update_postimage",
         3,
         "2024-08-30T03:56:37Z",
         1
        ]
       ],
       "datasetInfos": [],
       "dbfsResultPath": null,
       "isJsonSchema": true,
       "metadata": {},
       "overflow": false,
       "plotOptions": {
        "customPlotOptions": {},
        "displayType": "table",
        "pivotAggregation": null,
        "pivotColumns": null,
        "xColumns": null,
        "yColumns": null
       },
       "removedWidgets": [],
       "schema": [
        {
         "metadata": "{}",
         "name": "EmPId",
         "type": "\"string\""
        },
        {
         "metadata": "{}",
         "name": "FirstName",
         "type": "\"string\""
        },
        {
         "metadata": "{}",
         "name": "LastName",
         "type": "\"string\""
        },
        {
         "metadata": "{}",
         "name": "Address1",
         "type": "\"string\""
        },
        {
         "metadata": "{\"__detected_date_formats\":\"M/d/yyyy\"}",
         "name": "CreatedOn",
         "type": "\"string\""
        },
        {
         "metadata": "{\"__detected_date_formats\":\"M/d/yyyy\"}",
         "name": "ModifiedOn",
         "type": "\"string\""
        },
        {
         "metadata": "{}",
         "name": "_rescued_data",
         "type": "\"string\""
        },
        {
         "metadata": "{}",
         "name": "softDelete",
         "type": "\"boolean\""
        },
        {
         "metadata": "{}",
         "name": "_change_type",
         "type": "\"string\""
        },
        {
         "metadata": "{}",
         "name": "_commit_version",
         "type": "\"long\""
        },
        {
         "metadata": "{}",
         "name": "_commit_timestamp",
         "type": "\"timestamp\""
        },
        {
         "metadata": "{}",
         "name": "rank",
         "type": "\"integer\""
        }
       ],
       "type": "table"
      }
     },
     "output_type": "display_data"
    }
   ],
   "source": [
    "def cdf_id_last_version(df):\n",
    "    filtered_df = (df\n",
    "                  .filter(~col('_change_type').isin('delete','update_preimage'))\n",
    "                  )\n",
    "    windowPartition = Window.partitionBy(\"EmPId\").orderBy(desc('_commit_timestamp'))\n",
    "    ranked_df = (filtered_df\n",
    "                 .withColumn('rank',row_number().over(windowPartition))\n",
    "                 )\n",
    "    result_df = ranked_df.filter(col('rank') == 1)\n",
    "    return result_df\n",
    "\n",
    "last_version = cdf_id_last_version(cdf_timestamp)\n",
    "last_version.display()"
   ]
  },
  {
   "cell_type": "markdown",
   "metadata": {
    "application/vnd.databricks.v1+cell": {
     "cellMetadata": {},
     "inputWidgets": {},
     "nuid": "4d199fbd-0842-4f67-aea2-d1ce982810fc",
     "showTitle": false,
     "title": ""
    }
   },
   "source": [
    "## Using cdf for bronze to silver\n",
    "- uses checkpoints to resume from last run"
   ]
  },
  {
   "cell_type": "code",
   "execution_count": 0,
   "metadata": {
    "application/vnd.databricks.v1+cell": {
     "cellMetadata": {
      "byteLimit": 2048000,
      "rowLimit": 10000
     },
     "inputWidgets": {},
     "nuid": "2755caf2-12e2-4195-8de7-8f00b32e5b13",
     "showTitle": false,
     "title": ""
    }
   },
   "outputs": [],
   "source": [
    "def silver_etl(df):\n",
    "    return (\n",
    "        df.withColumn(\n",
    "            \"FullName\",\n",
    "            concat(\n",
    "                col(\"FirstName\"),\n",
    "                lit(\" \"),\n",
    "                col(\"LastName\"),\n",
    "            ),\n",
    "        )\n",
    "        .withColumn(\n",
    "            \"CreatedOn\", to_date(col(\"CreatedOn\"), \"MM/dd/yyyy\").alias(\"CreatedOn\")\n",
    "        )\n",
    "        .withColumn(\n",
    "            \"ModifiedOn\", to_date(col(\"ModifiedOn\"), \"MM/dd/yyyy\").alias(\"ModifiedOn\")\n",
    "        )\n",
    "    )"
   ]
  },
  {
   "cell_type": "code",
   "execution_count": 0,
   "metadata": {
    "application/vnd.databricks.v1+cell": {
     "cellMetadata": {
      "byteLimit": 2048000,
      "rowLimit": 10000
     },
     "inputWidgets": {},
     "nuid": "551b98a4-c5c2-479c-ac53-22b6f5181996",
     "showTitle": false,
     "title": ""
    }
   },
   "outputs": [],
   "source": [
    "from pyspark.context import SparkContext\n",
    "\n",
    "schema = StructType([\n",
    "    StructField('EmPId',StringType(),True),\n",
    "    StructField('FirstName',StringType(),True),\n",
    "    StructField('LastName',StringType(),True),\n",
    "    StructField('FullName',StringType(),True),\n",
    "    StructField('Address1',StringType(),True),\n",
    "    StructField('CreatedOn',DateType(),True),\n",
    "    StructField('ModifiedOn',DateType(),True),\n",
    "    # StructField('softDelete',BooleanType(),True),\n",
    "    StructField('_rescued_data',StringType(),True),\n",
    "])\n",
    "\n",
    "empty_df = spark.createDataFrame(spark.sparkContext.emptyRDD(), schema)\n",
    "empty_df.write.format('delta').mode('overwrite').saveAsTable('customers_silver')"
   ]
  },
  {
   "cell_type": "code",
   "execution_count": 0,
   "metadata": {
    "application/vnd.databricks.v1+cell": {
     "cellMetadata": {
      "byteLimit": 2048000,
      "rowLimit": 10000
     },
     "inputWidgets": {},
     "nuid": "0e4285e8-4696-4161-b331-8031d1c9a6c5",
     "showTitle": false,
     "title": ""
    }
   },
   "outputs": [],
   "source": [
    "SINK_TABLE = \"customers_silver\"\n",
    "\n",
    "def etl_and_merge_to_silver(df, batch_id):\n",
    "    if not df.isEmpty():\n",
    "        sink_delta_table = DeltaTable.forName(spark, SINK_TABLE)\n",
    "        df_transactions_sink = sink_delta_table.toDF()\n",
    "        log_writer.info(f\"Sink delta table has {df_transactions_sink.count()} records\")\n",
    "        last_version_records = cdf_id_last_version(df)\n",
    "        source_transformed = silver_etl(last_version_records)\n",
    "        log_writer.info(\n",
    "            f\"batch_id: {batch_id} with source table of {source_transformed.count()} records\"\n",
    "        )\n",
    "        (\n",
    "            sink_delta_table.alias(\"target\")\n",
    "            .merge(source_transformed.alias(\"source\"), \"source.EmPId = target.EmPId\")\n",
    "            .whenMatchedUpdateAll()\n",
    "            .whenNotMatchedInsertAll()\n",
    "            .execute()\n",
    "        )\n",
    "        sink_delta_table = DeltaTable.forName(spark,SINK_TABLE)\n",
    "        df_transactions_sink = sink_delta_table.toDF()\n",
    "        log_writer.info(f'Sink delta table has now {df_transactions_sink.count()} records')\n",
    "    else:\n",
    "        log_writer.info(f'batch_id: {batch_id} no Records to load')\n"
   ]
  },
  {
   "cell_type": "markdown",
   "metadata": {
    "application/vnd.databricks.v1+cell": {
     "cellMetadata": {},
     "inputWidgets": {},
     "nuid": "9edf96fd-4a22-4827-ae6c-36d896d88822",
     "showTitle": false,
     "title": ""
    }
   },
   "source": [
    "### Read Stream from checkpoint rather than version or timestamp"
   ]
  },
  {
   "cell_type": "code",
   "execution_count": 0,
   "metadata": {
    "application/vnd.databricks.v1+cell": {
     "cellMetadata": {
      "byteLimit": 2048000,
      "rowLimit": 10000
     },
     "inputWidgets": {},
     "nuid": "90347616-8168-41f0-9734-ef039210b5fb",
     "showTitle": false,
     "title": ""
    }
   },
   "outputs": [
    {
     "output_type": "execute_result",
     "data": {
      "text/plain": [
       "<pyspark.sql.streaming.query.StreamingQuery at 0x7fbe745dc790>"
      ]
     },
     "execution_count": 122,
     "metadata": {},
     "output_type": "execute_result"
    }
   ],
   "source": [
    "SOURCE_TABLE = 'customers_bronze'\n",
    "checkpoint_path = 'dbfs:/FileStore/tables/Manual_CDF_Demo/_checkpoint/customers_silver'\n",
    "\n",
    "(spark.readStream\n",
    " .format('delta')\n",
    " .option('readChangeFeed','true').\n",
    " table(SOURCE_TABLE)\n",
    " .writeStream\n",
    " .foreachBatch(etl_and_merge_to_silver)\n",
    " .option('checkpointLocation',checkpoint_path)\n",
    " .trigger(availableNow=True)\n",
    " .start()\n",
    " )"
   ]
  },
  {
   "cell_type": "code",
   "execution_count": 0,
   "metadata": {
    "application/vnd.databricks.v1+cell": {
     "cellMetadata": {
      "byteLimit": 2048000,
      "implicitDf": true,
      "rowLimit": 10000
     },
     "inputWidgets": {},
     "nuid": "cee9bf4d-10ee-4da6-a030-2d8cfaa0356c",
     "showTitle": false,
     "title": ""
    }
   },
   "outputs": [
    {
     "output_type": "display_data",
     "data": {
      "text/html": [
       "<style scoped>\n",
       "  .table-result-container {\n",
       "    max-height: 300px;\n",
       "    overflow: auto;\n",
       "  }\n",
       "  table, th, td {\n",
       "    border: 1px solid black;\n",
       "    border-collapse: collapse;\n",
       "  }\n",
       "  th, td {\n",
       "    padding: 5px;\n",
       "  }\n",
       "  th {\n",
       "    text-align: left;\n",
       "  }\n",
       "</style><div class='table-result-container'><table class='table-result'><thead style='background-color: white'><tr><th>EmPId</th><th>FirstName</th><th>LastName</th><th>FullName</th><th>Address1</th><th>CreatedOn</th><th>ModifiedOn</th><th>_rescued_data</th></tr></thead><tbody><tr><td>1</td><td>Leonardo</td><td>da Vinci</td><td>Leonardo da Vinci</td><td>123 First St.</td><td>2024-12-31</td><td>2024-12-31</td><td>null</td></tr><tr><td>2</td><td>Napoleon</td><td>Bonaparte</td><td>Napoleon Bonaparte</td><td>234 Second St.</td><td>2024-12-31</td><td>2024-12-31</td><td>null</td></tr><tr><td>3</td><td>Charles</td><td>Darwin</td><td>Charles Darwin</td><td>345 Third St.</td><td>2024-12-31</td><td>2024-12-31</td><td>null</td></tr><tr><td>4</td><td>Albert</td><td>Einstein</td><td>Albert Einstein</td><td>456 Fourth St.</td><td>2024-12-31</td><td>2025-10-31</td><td>null</td></tr><tr><td>5</td><td>Thomas</td><td>Jefferson</td><td>Thomas Jefferson</td><td>678 Fifth St.</td><td>2024-12-31</td><td>2024-12-31</td><td>null</td></tr><tr><td>6</td><td>baba</td><td>yaga</td><td>baba yaga</td><td>678 Fifth St.</td><td>2024-12-31</td><td>2024-12-31</td><td>null</td></tr><tr><td>7</td><td>tommy</td><td>Jefferson</td><td>tommy Jefferson</td><td>678 Fifth St.</td><td>2024-12-31</td><td>2024-12-31</td><td>null</td></tr></tbody></table></div>"
      ]
     },
     "metadata": {
      "application/vnd.databricks.v1+output": {
       "addedWidgets": {},
       "aggData": [],
       "aggError": "",
       "aggOverflow": false,
       "aggSchema": [],
       "aggSeriesLimitReached": false,
       "aggType": "",
       "arguments": {},
       "columnCustomDisplayInfos": {},
       "data": [
        [
         "1",
         "Leonardo",
         "da Vinci",
         "Leonardo da Vinci",
         "123 First St.",
         "2024-12-31",
         "2024-12-31",
         null
        ],
        [
         "2",
         "Napoleon",
         "Bonaparte",
         "Napoleon Bonaparte",
         "234 Second St.",
         "2024-12-31",
         "2024-12-31",
         null
        ],
        [
         "3",
         "Charles",
         "Darwin",
         "Charles Darwin",
         "345 Third St.",
         "2024-12-31",
         "2024-12-31",
         null
        ],
        [
         "4",
         "Albert",
         "Einstein",
         "Albert Einstein",
         "456 Fourth St.",
         "2024-12-31",
         "2025-10-31",
         null
        ],
        [
         "5",
         "Thomas",
         "Jefferson",
         "Thomas Jefferson",
         "678 Fifth St.",
         "2024-12-31",
         "2024-12-31",
         null
        ],
        [
         "6",
         "baba",
         "yaga",
         "baba yaga",
         "678 Fifth St.",
         "2024-12-31",
         "2024-12-31",
         null
        ],
        [
         "7",
         "tommy",
         "Jefferson",
         "tommy Jefferson",
         "678 Fifth St.",
         "2024-12-31",
         "2024-12-31",
         null
        ]
       ],
       "datasetInfos": [],
       "dbfsResultPath": null,
       "isJsonSchema": true,
       "metadata": {
        "createTempViewForImplicitDf": true,
        "dataframeName": "_sqldf",
        "executionCount": 124
       },
       "overflow": false,
       "plotOptions": {
        "customPlotOptions": {},
        "displayType": "table",
        "pivotAggregation": null,
        "pivotColumns": null,
        "xColumns": null,
        "yColumns": null
       },
       "removedWidgets": [],
       "schema": [
        {
         "metadata": "{}",
         "name": "EmPId",
         "type": "\"string\""
        },
        {
         "metadata": "{}",
         "name": "FirstName",
         "type": "\"string\""
        },
        {
         "metadata": "{}",
         "name": "LastName",
         "type": "\"string\""
        },
        {
         "metadata": "{}",
         "name": "FullName",
         "type": "\"string\""
        },
        {
         "metadata": "{}",
         "name": "Address1",
         "type": "\"string\""
        },
        {
         "metadata": "{}",
         "name": "CreatedOn",
         "type": "\"date\""
        },
        {
         "metadata": "{}",
         "name": "ModifiedOn",
         "type": "\"date\""
        },
        {
         "metadata": "{}",
         "name": "_rescued_data",
         "type": "\"string\""
        }
       ],
       "type": "table"
      }
     },
     "output_type": "display_data"
    }
   ],
   "source": [
    "%sql\n",
    "select * from default.customers_silver"
   ]
  },
  {
   "cell_type": "markdown",
   "metadata": {
    "application/vnd.databricks.v1+cell": {
     "cellMetadata": {},
     "inputWidgets": {},
     "nuid": "a05ae39b-f5f9-40cb-b63d-f5d2d65f18b1",
     "showTitle": false,
     "title": ""
    }
   },
   "source": [
    "### Copy log file to Cloud Storage"
   ]
  },
  {
   "cell_type": "code",
   "execution_count": 0,
   "metadata": {
    "application/vnd.databricks.v1+cell": {
     "cellMetadata": {
      "byteLimit": 2048000,
      "rowLimit": 10000
     },
     "inputWidgets": {},
     "nuid": "b4966892-a022-4a9b-99b8-3866df2fd02a",
     "showTitle": false,
     "title": ""
    }
   },
   "outputs": [
    {
     "output_type": "stream",
     "name": "stdout",
     "output_type": "stream",
     "text": [
      "DEBUG:2024-08-30 03:23:29,621:Starting Logger\nDEBUG:2024-08-30 03:23:39,984:Starting Logger\nINFO:2024-08-30 04:32:58,986:Sink delta table has 0 records\nINFO:2024-08-30 04:33:30,251:Sink delta table has 0 records\nINFO:2024-08-30 04:33:32,029:batch_id: 0 with source table of 5 records\nINFO:2024-08-30 04:33:58,028:Sink delta table has 0 records\nINFO:2024-08-30 04:33:59,138:batch_id: 0 with source table of 5 records\nINFO:2024-08-30 04:34:41,628:Sink delta table has 0 records\nINFO:2024-08-30 04:34:42,579:batch_id: 0 with source table of 5 records\nINFO:2024-08-30 04:34:51,863:Sink delta table has now 5 records\nDEBUG:2024-08-30 04:37:48,942:Starting Logger\nDEBUG:2024-08-30 04:38:09,235:Starting Logger\nDEBUG:2024-08-30 04:38:19,212:Starting Logger\nINFO:2024-08-30 04:42:47,366:Sink delta table has 5 records\nINFO:2024-08-30 04:42:48,543:batch_id: 1 with source table of 7 records\nINFO:2024-08-30 04:42:59,797:Sink delta table has now 7 records\n\n"
     ]
    }
   ],
   "source": [
    "with open(log_filename,'r') as f:\n",
    "    print(f.read())"
   ]
  },
  {
   "cell_type": "code",
   "execution_count": 0,
   "metadata": {
    "application/vnd.databricks.v1+cell": {
     "cellMetadata": {},
     "inputWidgets": {},
     "nuid": "f3708dae-2a50-40d0-90e9-50e490c611de",
     "showTitle": false,
     "title": ""
    }
   },
   "outputs": [],
   "source": [
    "# dbutils.fs.cp(f'file:{log_filename}', '/mnt/path')"
   ]
  },
  {
   "cell_type": "markdown",
   "metadata": {
    "application/vnd.databricks.v1+cell": {
     "cellMetadata": {},
     "inputWidgets": {},
     "nuid": "97aa191c-3f15-442c-8f10-cb6b1428e35d",
     "showTitle": false,
     "title": ""
    }
   },
   "source": [
    "### Clean Up"
   ]
  },
  {
   "cell_type": "code",
   "execution_count": 0,
   "metadata": {
    "application/vnd.databricks.v1+cell": {
     "cellMetadata": {},
     "inputWidgets": {},
     "nuid": "50222601-a97b-4615-817a-5a391736c531",
     "showTitle": false,
     "title": ""
    }
   },
   "outputs": [],
   "source": [
    "dbutils.fs.rm('dbfs:/FileStore/tables/Manual_CDF_Demo/_checkpoint/',True)"
   ]
  },
  {
   "cell_type": "code",
   "execution_count": 0,
   "metadata": {
    "application/vnd.databricks.v1+cell": {
     "cellMetadata": {},
     "inputWidgets": {},
     "nuid": "b67157b5-2d34-43be-861b-4b70255ef41f",
     "showTitle": false,
     "title": ""
    }
   },
   "outputs": [],
   "source": [
    "%sql\n",
    "DROP TABLE IF EXISTS default.customers_bronze\n",
    "DROP TABLE IF EXISTS default.customers_silver"
   ]
  }
 ],
 "metadata": {
  "application/vnd.databricks.v1+notebook": {
   "dashboards": [],
   "environmentMetadata": null,
   "language": "python",
   "notebookMetadata": {
    "mostRecentlyExecutedCommandWithImplicitDF": {
     "commandId": 2284339761247808,
     "dataframes": [
      "_sqldf"
     ]
    },
    "pythonIndentUnit": 4
   },
   "notebookName": "Manual_CDF",
   "widgets": {}
  }
 },
 "nbformat": 4,
 "nbformat_minor": 0
}
