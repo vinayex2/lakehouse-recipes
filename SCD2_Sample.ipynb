{
 "cells": [
  {
   "cell_type": "markdown",
   "metadata": {
    "application/vnd.databricks.v1+cell": {
     "cellMetadata": {},
     "inputWidgets": {},
     "nuid": "bd2a50e4-1826-4a58-bbe2-e019cfce6e9b",
     "showTitle": false,
     "title": ""
    }
   },
   "source": [
    "### Imports"
   ]
  },
  {
   "cell_type": "code",
   "execution_count": 0,
   "metadata": {
    "application/vnd.databricks.v1+cell": {
     "cellMetadata": {
      "byteLimit": 2048000,
      "rowLimit": 10000
     },
     "inputWidgets": {},
     "nuid": "3812f9c5-0aca-48ee-8915-7e5ea67fdbc5",
     "showTitle": false,
     "title": ""
    }
   },
   "outputs": [],
   "source": [
    "from datetime import datetime, timezone\n",
    "import pandas as pd\n",
    "from delta.tables import DeltaTable\n",
    "from pyspark.sql.types import StringType\n",
    "from pyspark.sql.functions import (col,\n",
    "                                   lit,\n",
    "                                   max as _max,\n",
    "                                   concat_ws,\n",
    "                                   sha2)"
   ]
  },
  {
   "cell_type": "markdown",
   "metadata": {
    "application/vnd.databricks.v1+cell": {
     "cellMetadata": {},
     "inputWidgets": {},
     "nuid": "0a256b8c-2cd4-4c75-a0d3-7fb0d1861c92",
     "showTitle": false,
     "title": ""
    }
   },
   "source": [
    "### Sample Data"
   ]
  },
  {
   "cell_type": "code",
   "execution_count": 0,
   "metadata": {
    "application/vnd.databricks.v1+cell": {
     "cellMetadata": {
      "byteLimit": 2048000,
      "rowLimit": 10000
     },
     "inputWidgets": {},
     "nuid": "6f1b693f-6e04-4f5d-b065-136eb867d3f8",
     "showTitle": false,
     "title": ""
    }
   },
   "outputs": [],
   "source": [
    "data = {\n",
    "    \"name_id\": [1, 2],\n",
    "    \"name\": [\"Pedro\", \"John\"],\n",
    "    \"dob\": [\"1989-01-25\", \"1990-01-25\"],\n",
    "    \"town\": [\"Adelaide\", \"Melbourne\"],\n",
    "    \"updated_at\": [\"2024-08-30 03:56:12\", \"2024-08-30 03:56:12\"],\n",
    "}\n",
    "\n",
    "source = pd.DataFrame(data)\n",
    "df = spark.createDataFrame(source)\n",
    "df.write.format(\"delta\").mode(\"overwrite\").saveAsTable(\"names\")"
   ]
  },
  {
   "cell_type": "markdown",
   "metadata": {
    "application/vnd.databricks.v1+cell": {
     "cellMetadata": {},
     "inputWidgets": {},
     "nuid": "fdf00119-da53-4a81-9e39-04bee2d1ef61",
     "showTitle": false,
     "title": ""
    }
   },
   "source": [
    "### Sink SCD Table Definition"
   ]
  },
  {
   "cell_type": "code",
   "execution_count": 0,
   "metadata": {
    "application/vnd.databricks.v1+cell": {
     "cellMetadata": {
      "byteLimit": 2048000,
      "implicitDf": true,
      "rowLimit": 10000
     },
     "inputWidgets": {},
     "nuid": "d05a303d-27ee-4d4c-8cf7-7429b49324df",
     "showTitle": false,
     "title": ""
    }
   },
   "outputs": [
    {
     "output_type": "display_data",
     "data": {
      "text/html": [
       "<style scoped>\n",
       "  .table-result-container {\n",
       "    max-height: 300px;\n",
       "    overflow: auto;\n",
       "  }\n",
       "  table, th, td {\n",
       "    border: 1px solid black;\n",
       "    border-collapse: collapse;\n",
       "  }\n",
       "  th, td {\n",
       "    padding: 5px;\n",
       "  }\n",
       "  th {\n",
       "    text-align: left;\n",
       "  }\n",
       "</style><div class='table-result-container'><table class='table-result'><thead style='background-color: white'><tr></tr></thead><tbody></tbody></table></div>"
      ]
     },
     "metadata": {
      "application/vnd.databricks.v1+output": {
       "addedWidgets": {},
       "aggData": [],
       "aggError": "",
       "aggOverflow": false,
       "aggSchema": [],
       "aggSeriesLimitReached": false,
       "aggType": "",
       "arguments": {},
       "columnCustomDisplayInfos": {},
       "data": [],
       "datasetInfos": [],
       "dbfsResultPath": null,
       "isJsonSchema": true,
       "metadata": {
        "dataframeName": null
       },
       "overflow": false,
       "plotOptions": {
        "customPlotOptions": {},
        "displayType": "table",
        "pivotAggregation": null,
        "pivotColumns": null,
        "xColumns": null,
        "yColumns": null
       },
       "removedWidgets": [],
       "schema": [],
       "type": "table"
      }
     },
     "output_type": "display_data"
    }
   ],
   "source": [
    "%sql\n",
    "-- TRUNCATE TABLE names_scd2"
   ]
  },
  {
   "cell_type": "code",
   "execution_count": 0,
   "metadata": {
    "application/vnd.databricks.v1+cell": {
     "cellMetadata": {
      "byteLimit": 2048000,
      "rowLimit": 10000
     },
     "inputWidgets": {},
     "nuid": "1e188b75-dc6d-468d-be70-883c27991be3",
     "showTitle": false,
     "title": ""
    }
   },
   "outputs": [
    {
     "output_type": "execute_result",
     "data": {
      "text/plain": [
       "<delta.tables.DeltaTable at 0x7fbb57806750>"
      ]
     },
     "execution_count": 29,
     "metadata": {},
     "output_type": "execute_result"
    }
   ],
   "source": [
    "# create sink table empty\n",
    "(\n",
    "    DeltaTable.createIfNotExists(spark)\n",
    "    .tableName(\"names_scd2\")\n",
    "    .addColumn(\"hash_key\", \"STRING\")\n",
    "    .addColumn(\"name_id\", \"INT\")\n",
    "    .addColumn(\"name\", \"STRING\")\n",
    "    .addColumn(\"dob\", \"DATE\")\n",
    "    .addColumn(\"town\", \"STRING\")\n",
    "    .addColumn(\"from_date\", \"TIMESTAMP\")\n",
    "    .addColumn(\"to_date\", \"TIMESTAMP\")\n",
    "    .addColumn(\"current\", \"BOOLEAN\")\n",
    "    .addColumn(\"updated_at\", \"TIMESTAMP\")\n",
    "    .execute()\n",
    ")"
   ]
  },
  {
   "cell_type": "markdown",
   "metadata": {
    "application/vnd.databricks.v1+cell": {
     "cellMetadata": {},
     "inputWidgets": {},
     "nuid": "7d81c30e-be10-44ef-b1f3-bf6e2447743d",
     "showTitle": false,
     "title": ""
    }
   },
   "source": [
    "### hash_Key Logic"
   ]
  },
  {
   "cell_type": "code",
   "execution_count": 0,
   "metadata": {
    "application/vnd.databricks.v1+cell": {
     "cellMetadata": {
      "byteLimit": 2048000,
      "rowLimit": 10000
     },
     "inputWidgets": {},
     "nuid": "f37503bb-41b3-4f96-b874-8e87c649dcc2",
     "showTitle": false,
     "title": ""
    }
   },
   "outputs": [],
   "source": [
    "def createHashKey(df):\n",
    "    columns = [column for column in df.columns]\n",
    "    s_columns = [f\"s_{col}\" for col in columns]\n",
    "\n",
    "    # Create string copies for all columns\n",
    "    for col in df.columns:\n",
    "        df = df.withColumn(f\"s_{col}\", df[col].cast(StringType()))\n",
    "    # concatenate values\n",
    "    df = df.withColumn(\n",
    "        \"concatenated_values\", concat_ws(\"\", *s_columns)\n",
    "    )\n",
    "\n",
    "    # Compute Sha256\n",
    "    df = df.withColumn(\"hash_key\", sha2(df[\"concatenated_values\"], 256))\n",
    "\n",
    "    columns.append(\"hash_key\")\n",
    "    df = df.select(columns)\n",
    "    return df"
   ]
  },
  {
   "cell_type": "markdown",
   "metadata": {
    "application/vnd.databricks.v1+cell": {
     "cellMetadata": {},
     "inputWidgets": {},
     "nuid": "6144b770-35cf-418b-b631-f72c9b8fa553",
     "showTitle": false,
     "title": ""
    }
   },
   "source": [
    "### SCD2 Merge"
   ]
  },
  {
   "cell_type": "code",
   "execution_count": 0,
   "metadata": {
    "application/vnd.databricks.v1+cell": {
     "cellMetadata": {
      "byteLimit": 2048000,
      "rowLimit": 10000
     },
     "inputWidgets": {},
     "nuid": "f89c5178-4eac-4bab-bfc3-ab8e4d1263dd",
     "showTitle": false,
     "title": ""
    }
   },
   "outputs": [],
   "source": [
    "def merge_scd2(updated_df, sink_table):\n",
    "    changed_records = (\n",
    "        updated_df.alias(\"updates\")\n",
    "        .join(sink_table.toDF().alias(\"scd2\"), \"name_id\")\n",
    "        .where(\n",
    "            \"\"\"\n",
    "                           `scd2`.`current` = true\n",
    "                           and\n",
    "                           `updates`.`hash_key` <> `scd2`.`hash_key`\n",
    "                           \"\"\"\n",
    "        )\n",
    "    )\n",
    "    print(\"changed records\")\n",
    "    display(changed_records)\n",
    "\n",
    "    # Stage changes\n",
    "    # new records will be inserted new records and new versions\n",
    "    # to_date will be null and from_date will be last_updated, for completely\n",
    "    # changed records that will be updated, current flag to false and to_date updated to last_updated\n",
    "    staged_updates = changed_records.selectExpr(\n",
    "        \"null as merge_key\", \"updates.*\"\n",
    "    ).union(  # changed updated records\n",
    "        updates_df.selectExpr(\"name_id as merge_key\", \"*\")\n",
    "    )  # new records either new version\n",
    "    print(\"staged_updates\")\n",
    "    display(staged_updates)\n",
    "\n",
    "    # merge intp scd2\n",
    "    now = datetime.now(timezone.utc).isoformat()\n",
    "    staged_updates = staged_updates.withColumn(\"updated_at\", lit(now))\n",
    "\n",
    "    (\n",
    "        sink_table.alias(\"scd2\")\n",
    "        .merge(staged_updates.alias(\"staged_updates\"), \"scd2.name_id = merge_key\")\n",
    "        .whenMatchedUpdate(\n",
    "            condition=\"\"\"\n",
    "                    `scd2`.`current` = true\n",
    "                    and `staged_updates`.`hash_key` <> `scd2`.`hash_key`\n",
    "                    \"\"\",\n",
    "            set={\"current\": \"false\", \"to_date\": \"staged_updates.updated_at\"},\n",
    "        )\n",
    "        .whenNotMatchedInsert(\n",
    "            values={\n",
    "                \"hash_key\": \"staged_updates.hash_key\",\n",
    "                \"name_id\": \"staged_updates.name_id\",\n",
    "                \"name\": \"staged_updates.name\",\n",
    "                \"dob\": \"staged_updates.dob\",\n",
    "                \"town\": \"staged_updates.town\",\n",
    "                \"current\": \"true\",\n",
    "                \"from_date\": \"staged_updates.updated_at\",\n",
    "                \"to_date\": \"null\",\n",
    "            }\n",
    "        )\n",
    "        .execute()\n",
    "    )"
   ]
  },
  {
   "cell_type": "markdown",
   "metadata": {
    "application/vnd.databricks.v1+cell": {
     "cellMetadata": {},
     "inputWidgets": {},
     "nuid": "23a8b2c2-fa17-43dd-bd87-ae4172d86c0b",
     "showTitle": false,
     "title": ""
    }
   },
   "source": [
    "### Watermark tracking"
   ]
  },
  {
   "cell_type": "code",
   "execution_count": 0,
   "metadata": {
    "application/vnd.databricks.v1+cell": {
     "cellMetadata": {
      "byteLimit": 2048000,
      "rowLimit": 10000
     },
     "inputWidgets": {},
     "nuid": "ec3a69c9-8c71-4622-a19a-dc0f3d17d2d5",
     "showTitle": false,
     "title": ""
    }
   },
   "outputs": [
    {
     "output_type": "display_data",
     "data": {
      "text/html": [
       "<style scoped>\n",
       "  .table-result-container {\n",
       "    max-height: 300px;\n",
       "    overflow: auto;\n",
       "  }\n",
       "  table, th, td {\n",
       "    border: 1px solid black;\n",
       "    border-collapse: collapse;\n",
       "  }\n",
       "  th, td {\n",
       "    padding: 5px;\n",
       "  }\n",
       "  th {\n",
       "    text-align: left;\n",
       "  }\n",
       "</style><div class='table-result-container'><table class='table-result'><thead style='background-color: white'><tr><th>name_id</th><th>name</th><th>dob</th><th>town</th><th>updated_at</th><th>hash_key</th></tr></thead><tbody><tr><td>1</td><td>Pedro</td><td>1989-01-25</td><td>Adelaide</td><td>2024-08-30 03:56:12</td><td>e0fb8e44725422f9c3a1604d2233031e203a4e2638537df643af970d5cc91c4e</td></tr><tr><td>2</td><td>John</td><td>1990-01-25</td><td>Melbourne</td><td>2024-08-30 03:56:12</td><td>9219f60be71a80a1d40947c119b841c4dc869eadb748ae6ca56fb897f9cbff36</td></tr></tbody></table></div>"
      ]
     },
     "metadata": {
      "application/vnd.databricks.v1+output": {
       "addedWidgets": {},
       "aggData": [],
       "aggError": "",
       "aggOverflow": false,
       "aggSchema": [],
       "aggSeriesLimitReached": false,
       "aggType": "",
       "arguments": {},
       "columnCustomDisplayInfos": {},
       "data": [
        [
         1,
         "Pedro",
         "1989-01-25",
         "Adelaide",
         "2024-08-30 03:56:12",
         "e0fb8e44725422f9c3a1604d2233031e203a4e2638537df643af970d5cc91c4e"
        ],
        [
         2,
         "John",
         "1990-01-25",
         "Melbourne",
         "2024-08-30 03:56:12",
         "9219f60be71a80a1d40947c119b841c4dc869eadb748ae6ca56fb897f9cbff36"
        ]
       ],
       "datasetInfos": [],
       "dbfsResultPath": null,
       "isJsonSchema": true,
       "metadata": {},
       "overflow": false,
       "plotOptions": {
        "customPlotOptions": {},
        "displayType": "table",
        "pivotAggregation": null,
        "pivotColumns": null,
        "xColumns": null,
        "yColumns": null
       },
       "removedWidgets": [],
       "schema": [
        {
         "metadata": "{}",
         "name": "name_id",
         "type": "\"long\""
        },
        {
         "metadata": "{}",
         "name": "name",
         "type": "\"string\""
        },
        {
         "metadata": "{}",
         "name": "dob",
         "type": "\"string\""
        },
        {
         "metadata": "{}",
         "name": "town",
         "type": "\"string\""
        },
        {
         "metadata": "{}",
         "name": "updated_at",
         "type": "\"string\""
        },
        {
         "metadata": "{}",
         "name": "hash_key",
         "type": "\"string\""
        }
       ],
       "type": "table"
      }
     },
     "output_type": "display_data"
    }
   ],
   "source": [
    "watermark = \"2000-01-01\"\n",
    "source_table = spark.read.table(\"names\")\n",
    "sink_table = DeltaTable.forName(spark,'names_scd2')\n",
    "\n",
    "updates_df = source_table.filter(col(\"updated_at\") > watermark)\n",
    "watermark = (source_table\n",
    "             .select(['updated_at'])\n",
    "             .agg(_max(col('updated_at')))\n",
    "             .collect()[0][0]\n",
    "             )\n",
    "updates_df = createHashKey(updates_df)             \n",
    "display(updates_df)"
   ]
  },
  {
   "cell_type": "markdown",
   "metadata": {
    "application/vnd.databricks.v1+cell": {
     "cellMetadata": {},
     "inputWidgets": {},
     "nuid": "a31ecc50-65b3-40a2-8c27-b74cd438705f",
     "showTitle": false,
     "title": ""
    }
   },
   "source": [
    "### First Run with inserts only"
   ]
  },
  {
   "cell_type": "code",
   "execution_count": 0,
   "metadata": {
    "application/vnd.databricks.v1+cell": {
     "cellMetadata": {
      "byteLimit": 2048000,
      "rowLimit": 10000
     },
     "inputWidgets": {},
     "nuid": "9fd29ba6-a8f2-41b5-93a1-82f98e6bb075",
     "showTitle": false,
     "title": ""
    }
   },
   "outputs": [
    {
     "output_type": "stream",
     "name": "stdout",
     "output_type": "stream",
     "text": [
      "changed records\n"
     ]
    },
    {
     "output_type": "display_data",
     "data": {
      "text/html": [
       "<style scoped>\n",
       "  .table-result-container {\n",
       "    max-height: 300px;\n",
       "    overflow: auto;\n",
       "  }\n",
       "  table, th, td {\n",
       "    border: 1px solid black;\n",
       "    border-collapse: collapse;\n",
       "  }\n",
       "  th, td {\n",
       "    padding: 5px;\n",
       "  }\n",
       "  th {\n",
       "    text-align: left;\n",
       "  }\n",
       "</style><div class='table-result-container'><table class='table-result'><thead style='background-color: white'><tr><th>name_id</th><th>name</th><th>dob</th><th>town</th><th>updated_at</th><th>hash_key</th><th>hash_key</th><th>name</th><th>dob</th><th>town</th><th>from_date</th><th>to_date</th><th>current</th><th>updated_at</th></tr></thead><tbody></tbody></table></div>"
      ]
     },
     "metadata": {
      "application/vnd.databricks.v1+output": {
       "addedWidgets": {},
       "aggData": [],
       "aggError": "",
       "aggOverflow": false,
       "aggSchema": [],
       "aggSeriesLimitReached": false,
       "aggType": "",
       "arguments": {},
       "columnCustomDisplayInfos": {},
       "data": [],
       "datasetInfos": [],
       "dbfsResultPath": null,
       "isJsonSchema": true,
       "metadata": {},
       "overflow": false,
       "plotOptions": {
        "customPlotOptions": {},
        "displayType": "table",
        "pivotAggregation": null,
        "pivotColumns": null,
        "xColumns": null,
        "yColumns": null
       },
       "removedWidgets": [],
       "schema": [
        {
         "metadata": "{}",
         "name": "name_id",
         "type": "\"long\""
        },
        {
         "metadata": "{}",
         "name": "name",
         "type": "\"string\""
        },
        {
         "metadata": "{}",
         "name": "dob",
         "type": "\"string\""
        },
        {
         "metadata": "{}",
         "name": "town",
         "type": "\"string\""
        },
        {
         "metadata": "{}",
         "name": "updated_at",
         "type": "\"string\""
        },
        {
         "metadata": "{}",
         "name": "hash_key",
         "type": "\"string\""
        },
        {
         "metadata": "{}",
         "name": "hash_key",
         "type": "\"string\""
        },
        {
         "metadata": "{}",
         "name": "name",
         "type": "\"string\""
        },
        {
         "metadata": "{}",
         "name": "dob",
         "type": "\"date\""
        },
        {
         "metadata": "{}",
         "name": "town",
         "type": "\"string\""
        },
        {
         "metadata": "{}",
         "name": "from_date",
         "type": "\"timestamp\""
        },
        {
         "metadata": "{}",
         "name": "to_date",
         "type": "\"timestamp\""
        },
        {
         "metadata": "{}",
         "name": "current",
         "type": "\"boolean\""
        },
        {
         "metadata": "{}",
         "name": "updated_at",
         "type": "\"timestamp\""
        }
       ],
       "type": "table"
      }
     },
     "output_type": "display_data"
    },
    {
     "output_type": "stream",
     "name": "stdout",
     "output_type": "stream",
     "text": [
      "staged_updates\n"
     ]
    },
    {
     "output_type": "display_data",
     "data": {
      "text/html": [
       "<style scoped>\n",
       "  .table-result-container {\n",
       "    max-height: 300px;\n",
       "    overflow: auto;\n",
       "  }\n",
       "  table, th, td {\n",
       "    border: 1px solid black;\n",
       "    border-collapse: collapse;\n",
       "  }\n",
       "  th, td {\n",
       "    padding: 5px;\n",
       "  }\n",
       "  th {\n",
       "    text-align: left;\n",
       "  }\n",
       "</style><div class='table-result-container'><table class='table-result'><thead style='background-color: white'><tr><th>merge_key</th><th>name_id</th><th>name</th><th>dob</th><th>town</th><th>updated_at</th><th>hash_key</th></tr></thead><tbody><tr><td>1</td><td>1</td><td>Pedro</td><td>1989-01-25</td><td>Adelaide</td><td>2024-08-30 03:56:12</td><td>e0fb8e44725422f9c3a1604d2233031e203a4e2638537df643af970d5cc91c4e</td></tr><tr><td>2</td><td>2</td><td>John</td><td>1990-01-25</td><td>Melbourne</td><td>2024-08-30 03:56:12</td><td>9219f60be71a80a1d40947c119b841c4dc869eadb748ae6ca56fb897f9cbff36</td></tr></tbody></table></div>"
      ]
     },
     "metadata": {
      "application/vnd.databricks.v1+output": {
       "addedWidgets": {},
       "aggData": [],
       "aggError": "",
       "aggOverflow": false,
       "aggSchema": [],
       "aggSeriesLimitReached": false,
       "aggType": "",
       "arguments": {},
       "columnCustomDisplayInfos": {},
       "data": [
        [
         1,
         1,
         "Pedro",
         "1989-01-25",
         "Adelaide",
         "2024-08-30 03:56:12",
         "e0fb8e44725422f9c3a1604d2233031e203a4e2638537df643af970d5cc91c4e"
        ],
        [
         2,
         2,
         "John",
         "1990-01-25",
         "Melbourne",
         "2024-08-30 03:56:12",
         "9219f60be71a80a1d40947c119b841c4dc869eadb748ae6ca56fb897f9cbff36"
        ]
       ],
       "datasetInfos": [],
       "dbfsResultPath": null,
       "isJsonSchema": true,
       "metadata": {},
       "overflow": false,
       "plotOptions": {
        "customPlotOptions": {},
        "displayType": "table",
        "pivotAggregation": null,
        "pivotColumns": null,
        "xColumns": null,
        "yColumns": null
       },
       "removedWidgets": [],
       "schema": [
        {
         "metadata": "{}",
         "name": "merge_key",
         "type": "\"long\""
        },
        {
         "metadata": "{}",
         "name": "name_id",
         "type": "\"long\""
        },
        {
         "metadata": "{}",
         "name": "name",
         "type": "\"string\""
        },
        {
         "metadata": "{}",
         "name": "dob",
         "type": "\"string\""
        },
        {
         "metadata": "{}",
         "name": "town",
         "type": "\"string\""
        },
        {
         "metadata": "{}",
         "name": "updated_at",
         "type": "\"string\""
        },
        {
         "metadata": "{}",
         "name": "hash_key",
         "type": "\"string\""
        }
       ],
       "type": "table"
      }
     },
     "output_type": "display_data"
    }
   ],
   "source": [
    "merge_scd2(updates_df,sink_table)"
   ]
  },
  {
   "cell_type": "markdown",
   "metadata": {
    "application/vnd.databricks.v1+cell": {
     "cellMetadata": {},
     "inputWidgets": {},
     "nuid": "998911db-2bda-43d6-8bc4-bc902ea23b78",
     "showTitle": false,
     "title": ""
    }
   },
   "source": [
    "### Updates to raw table"
   ]
  },
  {
   "cell_type": "code",
   "execution_count": 0,
   "metadata": {
    "application/vnd.databricks.v1+cell": {
     "cellMetadata": {
      "byteLimit": 2048000,
      "rowLimit": 10000
     },
     "inputWidgets": {},
     "nuid": "6c001cf6-6b82-4c1e-b16b-7b0c1d0ee6d7",
     "showTitle": false,
     "title": ""
    }
   },
   "outputs": [
    {
     "output_type": "display_data",
     "data": {
      "text/html": [
       "<style scoped>\n",
       "  .table-result-container {\n",
       "    max-height: 300px;\n",
       "    overflow: auto;\n",
       "  }\n",
       "  table, th, td {\n",
       "    border: 1px solid black;\n",
       "    border-collapse: collapse;\n",
       "  }\n",
       "  th, td {\n",
       "    padding: 5px;\n",
       "  }\n",
       "  th {\n",
       "    text-align: left;\n",
       "  }\n",
       "</style><div class='table-result-container'><table class='table-result'><thead style='background-color: white'><tr><th>name_id</th><th>name</th><th>dob</th><th>town</th><th>updated_at</th></tr></thead><tbody><tr><td>1</td><td>Pedro</td><td>1989-01-25</td><td>Adelaide</td><td>2024-08-30 03:56:12</td></tr><tr><td>2</td><td>John</td><td>1990-01-25</td><td>Melbourne</td><td>2024-08-30 03:56:12</td></tr></tbody></table></div>"
      ]
     },
     "metadata": {
      "application/vnd.databricks.v1+output": {
       "addedWidgets": {},
       "aggData": [],
       "aggError": "",
       "aggOverflow": false,
       "aggSchema": [],
       "aggSeriesLimitReached": false,
       "aggType": "",
       "arguments": {},
       "columnCustomDisplayInfos": {},
       "data": [
        [
         1,
         "Pedro",
         "1989-01-25",
         "Adelaide",
         "2024-08-30 03:56:12"
        ],
        [
         2,
         "John",
         "1990-01-25",
         "Melbourne",
         "2024-08-30 03:56:12"
        ]
       ],
       "datasetInfos": [],
       "dbfsResultPath": null,
       "isJsonSchema": true,
       "metadata": {},
       "overflow": false,
       "plotOptions": {
        "customPlotOptions": {},
        "displayType": "table",
        "pivotAggregation": null,
        "pivotColumns": null,
        "xColumns": null,
        "yColumns": null
       },
       "removedWidgets": [],
       "schema": [
        {
         "metadata": "{}",
         "name": "name_id",
         "type": "\"long\""
        },
        {
         "metadata": "{}",
         "name": "name",
         "type": "\"string\""
        },
        {
         "metadata": "{}",
         "name": "dob",
         "type": "\"string\""
        },
        {
         "metadata": "{}",
         "name": "town",
         "type": "\"string\""
        },
        {
         "metadata": "{}",
         "name": "updated_at",
         "type": "\"string\""
        }
       ],
       "type": "table"
      }
     },
     "output_type": "display_data"
    },
    {
     "output_type": "display_data",
     "data": {
      "text/html": [
       "<style scoped>\n",
       "  .table-result-container {\n",
       "    max-height: 300px;\n",
       "    overflow: auto;\n",
       "  }\n",
       "  table, th, td {\n",
       "    border: 1px solid black;\n",
       "    border-collapse: collapse;\n",
       "  }\n",
       "  th, td {\n",
       "    padding: 5px;\n",
       "  }\n",
       "  th {\n",
       "    text-align: left;\n",
       "  }\n",
       "</style><div class='table-result-container'><table class='table-result'><thead style='background-color: white'><tr><th>name_id</th><th>name</th><th>dob</th><th>town</th><th>updated_at</th></tr></thead><tbody><tr><td>1</td><td>Pedro</td><td>1989-01-25</td><td>Sao Paulo</td><td>2024-08-30T08:27:30.757054+00:00</td></tr><tr><td>2</td><td>John</td><td>1990-01-25</td><td>Melbourne</td><td>2024-08-30 03:56:12</td></tr></tbody></table></div>"
      ]
     },
     "metadata": {
      "application/vnd.databricks.v1+output": {
       "addedWidgets": {},
       "aggData": [],
       "aggError": "",
       "aggOverflow": false,
       "aggSchema": [],
       "aggSeriesLimitReached": false,
       "aggType": "",
       "arguments": {},
       "columnCustomDisplayInfos": {},
       "data": [
        [
         1,
         "Pedro",
         "1989-01-25",
         "Sao Paulo",
         "2024-08-30T08:27:30.757054+00:00"
        ],
        [
         2,
         "John",
         "1990-01-25",
         "Melbourne",
         "2024-08-30 03:56:12"
        ]
       ],
       "datasetInfos": [],
       "dbfsResultPath": null,
       "isJsonSchema": true,
       "metadata": {},
       "overflow": false,
       "plotOptions": {
        "customPlotOptions": {},
        "displayType": "table",
        "pivotAggregation": null,
        "pivotColumns": null,
        "xColumns": null,
        "yColumns": null
       },
       "removedWidgets": [],
       "schema": [
        {
         "metadata": "{}",
         "name": "name_id",
         "type": "\"long\""
        },
        {
         "metadata": "{}",
         "name": "name",
         "type": "\"string\""
        },
        {
         "metadata": "{}",
         "name": "dob",
         "type": "\"string\""
        },
        {
         "metadata": "{}",
         "name": "town",
         "type": "\"string\""
        },
        {
         "metadata": "{}",
         "name": "updated_at",
         "type": "\"string\""
        }
       ],
       "type": "table"
      }
     },
     "output_type": "display_data"
    }
   ],
   "source": [
    "source_table = DeltaTable.forName(spark,'names')\n",
    "display(source_table.toDF())\n",
    "\n",
    "(\n",
    "    source_table\n",
    "    .update(\n",
    "        condition=col('name_id') == 1,\n",
    "        set = {'town': lit('Sao Paulo'),\n",
    "               'updated_at': lit(datetime.now(timezone.utc).isoformat())}\n",
    "    )\n",
    ")\n",
    "\n",
    "source_table = DeltaTable.forName(spark,'names')\n",
    "display(source_table.toDF())\n"
   ]
  },
  {
   "cell_type": "code",
   "execution_count": 0,
   "metadata": {
    "application/vnd.databricks.v1+cell": {
     "cellMetadata": {
      "byteLimit": 2048000,
      "implicitDf": true,
      "rowLimit": 10000
     },
     "inputWidgets": {},
     "nuid": "e1fed6b1-c7f8-4414-bcd3-0dbd52b0423d",
     "showTitle": false,
     "title": ""
    }
   },
   "outputs": [
    {
     "output_type": "display_data",
     "data": {
      "text/html": [
       "<style scoped>\n",
       "  .table-result-container {\n",
       "    max-height: 300px;\n",
       "    overflow: auto;\n",
       "  }\n",
       "  table, th, td {\n",
       "    border: 1px solid black;\n",
       "    border-collapse: collapse;\n",
       "  }\n",
       "  th, td {\n",
       "    padding: 5px;\n",
       "  }\n",
       "  th {\n",
       "    text-align: left;\n",
       "  }\n",
       "</style><div class='table-result-container'><table class='table-result'><thead style='background-color: white'><tr><th>num_affected_rows</th><th>num_inserted_rows</th></tr></thead><tbody><tr><td>2</td><td>2</td></tr></tbody></table></div>"
      ]
     },
     "metadata": {
      "application/vnd.databricks.v1+output": {
       "addedWidgets": {},
       "aggData": [],
       "aggError": "",
       "aggOverflow": false,
       "aggSchema": [],
       "aggSeriesLimitReached": false,
       "aggType": "",
       "arguments": {},
       "columnCustomDisplayInfos": {},
       "data": [
        [
         2,
         2
        ]
       ],
       "datasetInfos": [],
       "dbfsResultPath": null,
       "isJsonSchema": true,
       "metadata": {
        "createTempViewForImplicitDf": true,
        "dataframeName": "_sqldf",
        "executionCount": 57
       },
       "overflow": false,
       "plotOptions": {
        "customPlotOptions": {},
        "displayType": "table",
        "pivotAggregation": null,
        "pivotColumns": null,
        "xColumns": null,
        "yColumns": null
       },
       "removedWidgets": [],
       "schema": [
        {
         "metadata": "{}",
         "name": "num_affected_rows",
         "type": "\"long\""
        },
        {
         "metadata": "{}",
         "name": "num_inserted_rows",
         "type": "\"long\""
        }
       ],
       "type": "table"
      }
     },
     "output_type": "display_data"
    }
   ],
   "source": [
    "%sql\n",
    "insert into names (name_id,name,dob,town,updated_at)\n",
    "values (3,\"richard\",'2001-01-04','Montreal',CURRENT_TIMESTAMP()),\n",
    "       (4,\"Maria\",'2001-01-04','New York',CURRENT_TIMESTAMP())"
   ]
  },
  {
   "cell_type": "code",
   "execution_count": 0,
   "metadata": {
    "application/vnd.databricks.v1+cell": {
     "cellMetadata": {
      "byteLimit": 2048000,
      "rowLimit": 10000
     },
     "inputWidgets": {},
     "nuid": "f83d6736-00df-416d-88f3-6ff3635a171b",
     "showTitle": false,
     "title": ""
    }
   },
   "outputs": [
    {
     "output_type": "stream",
     "name": "stdout",
     "output_type": "stream",
     "text": [
      "2024-08-30 03:56:12\n"
     ]
    }
   ],
   "source": []
  },
  {
   "cell_type": "code",
   "execution_count": 0,
   "metadata": {
    "application/vnd.databricks.v1+cell": {
     "cellMetadata": {
      "byteLimit": 2048000,
      "rowLimit": 10000
     },
     "inputWidgets": {},
     "nuid": "8c1dddf2-411f-4fd9-a33d-d355201568bd",
     "showTitle": false,
     "title": ""
    }
   },
   "outputs": [
    {
     "output_type": "display_data",
     "data": {
      "text/html": [
       "<style scoped>\n",
       "  .table-result-container {\n",
       "    max-height: 300px;\n",
       "    overflow: auto;\n",
       "  }\n",
       "  table, th, td {\n",
       "    border: 1px solid black;\n",
       "    border-collapse: collapse;\n",
       "  }\n",
       "  th, td {\n",
       "    padding: 5px;\n",
       "  }\n",
       "  th {\n",
       "    text-align: left;\n",
       "  }\n",
       "</style><div class='table-result-container'><table class='table-result'><thead style='background-color: white'><tr><th>name_id</th><th>name</th><th>dob</th><th>town</th><th>updated_at</th></tr></thead><tbody><tr><td>3</td><td>richard</td><td>2001-01-04</td><td>Montreal</td><td>2024-08-30 08:27:38.234</td></tr><tr><td>4</td><td>Maria</td><td>2001-01-04</td><td>New York</td><td>2024-08-30 08:27:38.234</td></tr><tr><td>1</td><td>Pedro</td><td>1989-01-25</td><td>Sao Paulo</td><td>2024-08-30T08:27:30.757054+00:00</td></tr></tbody></table></div>"
      ]
     },
     "metadata": {
      "application/vnd.databricks.v1+output": {
       "addedWidgets": {},
       "aggData": [],
       "aggError": "",
       "aggOverflow": false,
       "aggSchema": [],
       "aggSeriesLimitReached": false,
       "aggType": "",
       "arguments": {},
       "columnCustomDisplayInfos": {},
       "data": [
        [
         3,
         "richard",
         "2001-01-04",
         "Montreal",
         "2024-08-30 08:27:38.234"
        ],
        [
         4,
         "Maria",
         "2001-01-04",
         "New York",
         "2024-08-30 08:27:38.234"
        ],
        [
         1,
         "Pedro",
         "1989-01-25",
         "Sao Paulo",
         "2024-08-30T08:27:30.757054+00:00"
        ]
       ],
       "datasetInfos": [],
       "dbfsResultPath": null,
       "isJsonSchema": true,
       "metadata": {},
       "overflow": false,
       "plotOptions": {
        "customPlotOptions": {},
        "displayType": "table",
        "pivotAggregation": null,
        "pivotColumns": null,
        "xColumns": null,
        "yColumns": null
       },
       "removedWidgets": [],
       "schema": [
        {
         "metadata": "{}",
         "name": "name_id",
         "type": "\"long\""
        },
        {
         "metadata": "{}",
         "name": "name",
         "type": "\"string\""
        },
        {
         "metadata": "{}",
         "name": "dob",
         "type": "\"string\""
        },
        {
         "metadata": "{}",
         "name": "town",
         "type": "\"string\""
        },
        {
         "metadata": "{}",
         "name": "updated_at",
         "type": "\"string\""
        }
       ],
       "type": "table"
      }
     },
     "output_type": "display_data"
    },
    {
     "output_type": "stream",
     "name": "stdout",
     "output_type": "stream",
     "text": [
      "original watermark 2024-08-30 03:56:12\nupdated watermark 2024-08-30T08:27:30.757054+00:00\n"
     ]
    }
   ],
   "source": [
    "source_table = spark.read.table(\"names\")\n",
    "sink_table = DeltaTable.forName(spark,'names_scd2')\n",
    "\n",
    "updates_df = source_table.filter(col(\"updated_at\") > watermark)\n",
    "display(updates_df)\n",
    "\n",
    "print(f'original watermark {watermark}')\n",
    "watermark = (source_table\n",
    "             .select(['updated_at'])\n",
    "             .agg(_max(col('updated_at')))\n",
    "             .collect()[0][0]\n",
    "             )\n",
    "print(f'updated watermark {watermark}')\n",
    "updates_df = createHashKey(updates_df)"
   ]
  },
  {
   "cell_type": "code",
   "execution_count": 0,
   "metadata": {
    "application/vnd.databricks.v1+cell": {
     "cellMetadata": {
      "byteLimit": 2048000,
      "rowLimit": 10000
     },
     "inputWidgets": {},
     "nuid": "1bac20ce-9b04-4277-86a7-af5db36996db",
     "showTitle": false,
     "title": ""
    }
   },
   "outputs": [
    {
     "output_type": "stream",
     "name": "stdout",
     "output_type": "stream",
     "text": [
      "changed records\n"
     ]
    },
    {
     "output_type": "display_data",
     "data": {
      "text/html": [
       "<style scoped>\n",
       "  .table-result-container {\n",
       "    max-height: 300px;\n",
       "    overflow: auto;\n",
       "  }\n",
       "  table, th, td {\n",
       "    border: 1px solid black;\n",
       "    border-collapse: collapse;\n",
       "  }\n",
       "  th, td {\n",
       "    padding: 5px;\n",
       "  }\n",
       "  th {\n",
       "    text-align: left;\n",
       "  }\n",
       "</style><div class='table-result-container'><table class='table-result'><thead style='background-color: white'><tr><th>name_id</th><th>name</th><th>dob</th><th>town</th><th>updated_at</th><th>hash_key</th><th>hash_key</th><th>name</th><th>dob</th><th>town</th><th>from_date</th><th>to_date</th><th>current</th><th>updated_at</th></tr></thead><tbody><tr><td>1</td><td>Pedro</td><td>1989-01-25</td><td>Sao Paulo</td><td>2024-08-30T08:27:30.757054+00:00</td><td>eb808950db8a71147ade44eba4a34bffe82f6fc682105cdcc705a42da03077b1</td><td>e0fb8e44725422f9c3a1604d2233031e203a4e2638537df643af970d5cc91c4e</td><td>Pedro</td><td>1989-01-25</td><td>Adelaide</td><td>2024-08-30T08:27:24.111426Z</td><td>null</td><td>true</td><td>null</td></tr></tbody></table></div>"
      ]
     },
     "metadata": {
      "application/vnd.databricks.v1+output": {
       "addedWidgets": {},
       "aggData": [],
       "aggError": "",
       "aggOverflow": false,
       "aggSchema": [],
       "aggSeriesLimitReached": false,
       "aggType": "",
       "arguments": {},
       "columnCustomDisplayInfos": {},
       "data": [
        [
         1,
         "Pedro",
         "1989-01-25",
         "Sao Paulo",
         "2024-08-30T08:27:30.757054+00:00",
         "eb808950db8a71147ade44eba4a34bffe82f6fc682105cdcc705a42da03077b1",
         "e0fb8e44725422f9c3a1604d2233031e203a4e2638537df643af970d5cc91c4e",
         "Pedro",
         "1989-01-25",
         "Adelaide",
         "2024-08-30T08:27:24.111426Z",
         null,
         true,
         null
        ]
       ],
       "datasetInfos": [],
       "dbfsResultPath": null,
       "isJsonSchema": true,
       "metadata": {},
       "overflow": false,
       "plotOptions": {
        "customPlotOptions": {},
        "displayType": "table",
        "pivotAggregation": null,
        "pivotColumns": null,
        "xColumns": null,
        "yColumns": null
       },
       "removedWidgets": [],
       "schema": [
        {
         "metadata": "{}",
         "name": "name_id",
         "type": "\"long\""
        },
        {
         "metadata": "{}",
         "name": "name",
         "type": "\"string\""
        },
        {
         "metadata": "{}",
         "name": "dob",
         "type": "\"string\""
        },
        {
         "metadata": "{}",
         "name": "town",
         "type": "\"string\""
        },
        {
         "metadata": "{}",
         "name": "updated_at",
         "type": "\"string\""
        },
        {
         "metadata": "{}",
         "name": "hash_key",
         "type": "\"string\""
        },
        {
         "metadata": "{}",
         "name": "hash_key",
         "type": "\"string\""
        },
        {
         "metadata": "{}",
         "name": "name",
         "type": "\"string\""
        },
        {
         "metadata": "{}",
         "name": "dob",
         "type": "\"date\""
        },
        {
         "metadata": "{}",
         "name": "town",
         "type": "\"string\""
        },
        {
         "metadata": "{}",
         "name": "from_date",
         "type": "\"timestamp\""
        },
        {
         "metadata": "{}",
         "name": "to_date",
         "type": "\"timestamp\""
        },
        {
         "metadata": "{}",
         "name": "current",
         "type": "\"boolean\""
        },
        {
         "metadata": "{}",
         "name": "updated_at",
         "type": "\"timestamp\""
        }
       ],
       "type": "table"
      }
     },
     "output_type": "display_data"
    },
    {
     "output_type": "stream",
     "name": "stdout",
     "output_type": "stream",
     "text": [
      "staged_updates\n"
     ]
    },
    {
     "output_type": "display_data",
     "data": {
      "text/html": [
       "<style scoped>\n",
       "  .table-result-container {\n",
       "    max-height: 300px;\n",
       "    overflow: auto;\n",
       "  }\n",
       "  table, th, td {\n",
       "    border: 1px solid black;\n",
       "    border-collapse: collapse;\n",
       "  }\n",
       "  th, td {\n",
       "    padding: 5px;\n",
       "  }\n",
       "  th {\n",
       "    text-align: left;\n",
       "  }\n",
       "</style><div class='table-result-container'><table class='table-result'><thead style='background-color: white'><tr><th>merge_key</th><th>name_id</th><th>name</th><th>dob</th><th>town</th><th>updated_at</th><th>hash_key</th></tr></thead><tbody><tr><td>null</td><td>1</td><td>Pedro</td><td>1989-01-25</td><td>Sao Paulo</td><td>2024-08-30T08:27:30.757054+00:00</td><td>eb808950db8a71147ade44eba4a34bffe82f6fc682105cdcc705a42da03077b1</td></tr><tr><td>3</td><td>3</td><td>richard</td><td>2001-01-04</td><td>Montreal</td><td>2024-08-30 08:27:38.234</td><td>5d26aa0abbb6047ee425bf745b154389cb92718663594daab5c03daa0de38e11</td></tr><tr><td>4</td><td>4</td><td>Maria</td><td>2001-01-04</td><td>New York</td><td>2024-08-30 08:27:38.234</td><td>f45c6b5479755b3b9078e51861edf5309994e90036d1bd1462474695867e4ef1</td></tr><tr><td>1</td><td>1</td><td>Pedro</td><td>1989-01-25</td><td>Sao Paulo</td><td>2024-08-30T08:27:30.757054+00:00</td><td>eb808950db8a71147ade44eba4a34bffe82f6fc682105cdcc705a42da03077b1</td></tr></tbody></table></div>"
      ]
     },
     "metadata": {
      "application/vnd.databricks.v1+output": {
       "addedWidgets": {},
       "aggData": [],
       "aggError": "",
       "aggOverflow": false,
       "aggSchema": [],
       "aggSeriesLimitReached": false,
       "aggType": "",
       "arguments": {},
       "columnCustomDisplayInfos": {},
       "data": [
        [
         null,
         1,
         "Pedro",
         "1989-01-25",
         "Sao Paulo",
         "2024-08-30T08:27:30.757054+00:00",
         "eb808950db8a71147ade44eba4a34bffe82f6fc682105cdcc705a42da03077b1"
        ],
        [
         3,
         3,
         "richard",
         "2001-01-04",
         "Montreal",
         "2024-08-30 08:27:38.234",
         "5d26aa0abbb6047ee425bf745b154389cb92718663594daab5c03daa0de38e11"
        ],
        [
         4,
         4,
         "Maria",
         "2001-01-04",
         "New York",
         "2024-08-30 08:27:38.234",
         "f45c6b5479755b3b9078e51861edf5309994e90036d1bd1462474695867e4ef1"
        ],
        [
         1,
         1,
         "Pedro",
         "1989-01-25",
         "Sao Paulo",
         "2024-08-30T08:27:30.757054+00:00",
         "eb808950db8a71147ade44eba4a34bffe82f6fc682105cdcc705a42da03077b1"
        ]
       ],
       "datasetInfos": [],
       "dbfsResultPath": null,
       "isJsonSchema": true,
       "metadata": {},
       "overflow": false,
       "plotOptions": {
        "customPlotOptions": {},
        "displayType": "table",
        "pivotAggregation": null,
        "pivotColumns": null,
        "xColumns": null,
        "yColumns": null
       },
       "removedWidgets": [],
       "schema": [
        {
         "metadata": "{}",
         "name": "merge_key",
         "type": "\"long\""
        },
        {
         "metadata": "{}",
         "name": "name_id",
         "type": "\"long\""
        },
        {
         "metadata": "{}",
         "name": "name",
         "type": "\"string\""
        },
        {
         "metadata": "{}",
         "name": "dob",
         "type": "\"string\""
        },
        {
         "metadata": "{}",
         "name": "town",
         "type": "\"string\""
        },
        {
         "metadata": "{}",
         "name": "updated_at",
         "type": "\"string\""
        },
        {
         "metadata": "{}",
         "name": "hash_key",
         "type": "\"string\""
        }
       ],
       "type": "table"
      }
     },
     "output_type": "display_data"
    }
   ],
   "source": [
    "merge_scd2(updates_df,sink_table)"
   ]
  },
  {
   "cell_type": "markdown",
   "metadata": {
    "application/vnd.databricks.v1+cell": {
     "cellMetadata": {},
     "inputWidgets": {},
     "nuid": "881cbb8f-99fa-461a-ab90-9bbde907839c",
     "showTitle": false,
     "title": ""
    }
   },
   "source": [
    "### Final Result"
   ]
  },
  {
   "cell_type": "code",
   "execution_count": 0,
   "metadata": {
    "application/vnd.databricks.v1+cell": {
     "cellMetadata": {
      "byteLimit": 2048000,
      "rowLimit": 10000
     },
     "inputWidgets": {},
     "nuid": "038adbd7-1925-413b-bf05-d25a46fcac43",
     "showTitle": false,
     "title": ""
    }
   },
   "outputs": [
    {
     "output_type": "display_data",
     "data": {
      "text/html": [
       "<style scoped>\n",
       "  .table-result-container {\n",
       "    max-height: 300px;\n",
       "    overflow: auto;\n",
       "  }\n",
       "  table, th, td {\n",
       "    border: 1px solid black;\n",
       "    border-collapse: collapse;\n",
       "  }\n",
       "  th, td {\n",
       "    padding: 5px;\n",
       "  }\n",
       "  th {\n",
       "    text-align: left;\n",
       "  }\n",
       "</style><div class='table-result-container'><table class='table-result'><thead style='background-color: white'><tr><th>hash_key</th><th>name_id</th><th>name</th><th>dob</th><th>town</th><th>from_date</th><th>to_date</th><th>current</th><th>updated_at</th></tr></thead><tbody><tr><td>e0fb8e44725422f9c3a1604d2233031e203a4e2638537df643af970d5cc91c4e</td><td>1</td><td>Pedro</td><td>1989-01-25</td><td>Adelaide</td><td>2024-08-30T08:27:24.111426Z</td><td>2024-08-30T08:29:28.974068Z</td><td>false</td><td>null</td></tr><tr><td>eb808950db8a71147ade44eba4a34bffe82f6fc682105cdcc705a42da03077b1</td><td>1</td><td>Pedro</td><td>1989-01-25</td><td>Sao Paulo</td><td>2024-08-30T08:29:28.974068Z</td><td>null</td><td>true</td><td>null</td></tr><tr><td>9219f60be71a80a1d40947c119b841c4dc869eadb748ae6ca56fb897f9cbff36</td><td>2</td><td>John</td><td>1990-01-25</td><td>Melbourne</td><td>2024-08-30T08:27:24.111426Z</td><td>null</td><td>true</td><td>null</td></tr><tr><td>5d26aa0abbb6047ee425bf745b154389cb92718663594daab5c03daa0de38e11</td><td>3</td><td>richard</td><td>2001-01-04</td><td>Montreal</td><td>2024-08-30T08:29:28.974068Z</td><td>null</td><td>true</td><td>null</td></tr><tr><td>f45c6b5479755b3b9078e51861edf5309994e90036d1bd1462474695867e4ef1</td><td>4</td><td>Maria</td><td>2001-01-04</td><td>New York</td><td>2024-08-30T08:29:28.974068Z</td><td>null</td><td>true</td><td>null</td></tr></tbody></table></div>"
      ]
     },
     "metadata": {
      "application/vnd.databricks.v1+output": {
       "addedWidgets": {},
       "aggData": [],
       "aggError": "",
       "aggOverflow": false,
       "aggSchema": [],
       "aggSeriesLimitReached": false,
       "aggType": "",
       "arguments": {},
       "columnCustomDisplayInfos": {},
       "data": [
        [
         "e0fb8e44725422f9c3a1604d2233031e203a4e2638537df643af970d5cc91c4e",
         1,
         "Pedro",
         "1989-01-25",
         "Adelaide",
         "2024-08-30T08:27:24.111426Z",
         "2024-08-30T08:29:28.974068Z",
         false,
         null
        ],
        [
         "eb808950db8a71147ade44eba4a34bffe82f6fc682105cdcc705a42da03077b1",
         1,
         "Pedro",
         "1989-01-25",
         "Sao Paulo",
         "2024-08-30T08:29:28.974068Z",
         null,
         true,
         null
        ],
        [
         "9219f60be71a80a1d40947c119b841c4dc869eadb748ae6ca56fb897f9cbff36",
         2,
         "John",
         "1990-01-25",
         "Melbourne",
         "2024-08-30T08:27:24.111426Z",
         null,
         true,
         null
        ],
        [
         "5d26aa0abbb6047ee425bf745b154389cb92718663594daab5c03daa0de38e11",
         3,
         "richard",
         "2001-01-04",
         "Montreal",
         "2024-08-30T08:29:28.974068Z",
         null,
         true,
         null
        ],
        [
         "f45c6b5479755b3b9078e51861edf5309994e90036d1bd1462474695867e4ef1",
         4,
         "Maria",
         "2001-01-04",
         "New York",
         "2024-08-30T08:29:28.974068Z",
         null,
         true,
         null
        ]
       ],
       "datasetInfos": [],
       "dbfsResultPath": null,
       "isJsonSchema": true,
       "metadata": {},
       "overflow": false,
       "plotOptions": {
        "customPlotOptions": {},
        "displayType": "table",
        "pivotAggregation": null,
        "pivotColumns": null,
        "xColumns": null,
        "yColumns": null
       },
       "removedWidgets": [],
       "schema": [
        {
         "metadata": "{}",
         "name": "hash_key",
         "type": "\"string\""
        },
        {
         "metadata": "{}",
         "name": "name_id",
         "type": "\"integer\""
        },
        {
         "metadata": "{}",
         "name": "name",
         "type": "\"string\""
        },
        {
         "metadata": "{}",
         "name": "dob",
         "type": "\"date\""
        },
        {
         "metadata": "{}",
         "name": "town",
         "type": "\"string\""
        },
        {
         "metadata": "{}",
         "name": "from_date",
         "type": "\"timestamp\""
        },
        {
         "metadata": "{}",
         "name": "to_date",
         "type": "\"timestamp\""
        },
        {
         "metadata": "{}",
         "name": "current",
         "type": "\"boolean\""
        },
        {
         "metadata": "{}",
         "name": "updated_at",
         "type": "\"timestamp\""
        }
       ],
       "type": "table"
      }
     },
     "output_type": "display_data"
    }
   ],
   "source": [
    "display(sink_table.toDF())"
   ]
  }
 ],
 "metadata": {
  "application/vnd.databricks.v1+notebook": {
   "dashboards": [],
   "environmentMetadata": null,
   "language": "python",
   "notebookMetadata": {
    "mostRecentlyExecutedCommandWithImplicitDF": {
     "commandId": 1431533565345524,
     "dataframes": [
      "_sqldf"
     ]
    },
    "pythonIndentUnit": 4
   },
   "notebookName": "SCD2_Sample",
   "widgets": {}
  }
 },
 "nbformat": 4,
 "nbformat_minor": 0
}
